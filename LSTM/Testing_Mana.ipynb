{
 "cells": [
  {
   "cell_type": "code",
   "execution_count": 1,
   "id": "756c0ba3",
   "metadata": {},
   "outputs": [],
   "source": [
    "#importing libraries\n",
    "import pandas as pd\n",
    "import numpy as np\n",
    "import pandas_datareader as web\n",
    "import seaborn as sns\n",
    "import matplotlib.pyplot as plt\n",
    "import mplfinance as mpf\n",
    "import datetime as dt\n",
    "from matplotlib.pyplot import figure"
   ]
  },
  {
   "cell_type": "code",
   "execution_count": 2,
   "id": "2e6b8af6",
   "metadata": {},
   "outputs": [],
   "source": [
    "#Training AND testing\n",
    "from sklearn.preprocessing import MinMaxScaler\n",
    "from tensorflow.keras.layers import Dense, Dropout, LSTM\n",
    "from tensorflow.keras.layers import Input, Dense, Activation, Dropout, BatchNormalization\n",
    "from tensorflow.keras.models import Sequential"
   ]
  },
  {
   "cell_type": "code",
   "execution_count": 3,
   "id": "9f5a526a",
   "metadata": {},
   "outputs": [],
   "source": [
    "against_curr = 'USD'"
   ]
  },
  {
   "cell_type": "code",
   "execution_count": 4,
   "id": "3c6302e6",
   "metadata": {},
   "outputs": [],
   "source": [
    "crypto_mana = 'MANA'\n",
    "colnames = []"
   ]
  },
  {
   "cell_type": "code",
   "execution_count": 5,
   "id": "9a90697e",
   "metadata": {},
   "outputs": [],
   "source": [
    "start = dt.datetime(2016,10,10)\n",
    "end = dt.datetime.now()\n",
    "\n",
    "datadb = web.DataReader(f'{crypto_mana}-{against_curr}', 'yahoo', start, end)\n",
    "\n",
    "scaler = MinMaxScaler(feature_range=(0,1))\n",
    "scaled_data = scaler.fit_transform(datadb['Close'].values.reshape(-1,1))\n",
    "prediction_days = 60\n",
    "#future_days01 = 180"
   ]
  },
  {
   "cell_type": "code",
   "execution_count": 6,
   "id": "3d0dc9f1",
   "metadata": {},
   "outputs": [],
   "source": [
    "x_train, y_train = [], []\n",
    "for x in range(prediction_days, len(scaled_data)):\n",
    "    x_train.append(scaled_data[x-prediction_days:x, 0])\n",
    "    y_train.append(scaled_data[x, 0])\n",
    "    \n",
    "x_train, y_train = np.array(x_train), np.array(y_train)\n",
    "x_train = np.reshape(x_train, (x_train.shape[0], x_train.shape[1], 1))"
   ]
  },
  {
   "cell_type": "code",
   "execution_count": 7,
   "id": "f2575656",
   "metadata": {},
   "outputs": [
    {
     "name": "stdout",
     "output_type": "stream",
     "text": [
      "Epoch 1/25\n",
      "42/42 [==============================] - 9s 75ms/step - loss: 0.0049\n",
      "Epoch 2/25\n",
      "42/42 [==============================] - 3s 81ms/step - loss: 0.0021\n",
      "Epoch 3/25\n",
      "42/42 [==============================] - 3s 76ms/step - loss: 0.0016\n",
      "Epoch 4/25\n",
      "42/42 [==============================] - 3s 78ms/step - loss: 0.0018\n",
      "Epoch 5/25\n",
      "42/42 [==============================] - 3s 75ms/step - loss: 0.0016\n",
      "Epoch 6/25\n",
      "42/42 [==============================] - 3s 72ms/step - loss: 0.0019: 1\n",
      "Epoch 7/25\n",
      "42/42 [==============================] - 3s 70ms/step - loss: 0.0015\n",
      "Epoch 8/25\n",
      "42/42 [==============================] - 3s 69ms/step - loss: 0.0014: 1s - l - ETA: 0s - loss: 0.\n",
      "Epoch 9/25\n",
      "42/42 [==============================] - 3s 77ms/step - loss: 0.0015\n",
      "Epoch 10/25\n",
      "42/42 [==============================] - 3s 78ms/step - loss: 0.0015\n",
      "Epoch 11/25\n",
      "42/42 [==============================] - 3s 78ms/step - loss: 0.0014\n",
      "Epoch 12/25\n",
      "42/42 [==============================] - 3s 81ms/step - loss: 0.0012\n",
      "Epoch 13/25\n",
      "42/42 [==============================] - 3s 77ms/step - loss: 0.0014\n",
      "Epoch 14/25\n",
      "42/42 [==============================] - 3s 73ms/step - loss: 0.0011 ETA: 0s - loss: 9\n",
      "Epoch 15/25\n",
      "42/42 [==============================] - 4s 86ms/step - loss: 0.0011\n",
      "Epoch 16/25\n",
      "42/42 [==============================] - 3s 73ms/step - loss: 0.0012\n",
      "Epoch 17/25\n",
      "42/42 [==============================] - 3s 76ms/step - loss: 0.0012\n",
      "Epoch 18/25\n",
      "42/42 [==============================] - 3s 72ms/step - loss: 9.6376e-04\n",
      "Epoch 19/25\n",
      "42/42 [==============================] - 3s 72ms/step - loss: 0.0012\n",
      "Epoch 20/25\n",
      "42/42 [==============================] - 4s 86ms/step - loss: 9.9391e-04\n",
      "Epoch 21/25\n",
      "42/42 [==============================] - 3s 74ms/step - loss: 9.9648e-04\n",
      "Epoch 22/25\n",
      "42/42 [==============================] - 3s 70ms/step - loss: 9.5083e-04\n",
      "Epoch 23/25\n",
      "42/42 [==============================] - 3s 78ms/step - loss: 9.0843e-04\n",
      "Epoch 24/25\n",
      "42/42 [==============================] - 3s 77ms/step - loss: 9.2259e-04\n",
      "Epoch 25/25\n",
      "42/42 [==============================] - 3s 78ms/step - loss: 8.2261e-04\n"
     ]
    },
    {
     "data": {
      "text/plain": [
       "<keras.callbacks.History at 0x226aef0f790>"
      ]
     },
     "execution_count": 7,
     "metadata": {},
     "output_type": "execute_result"
    }
   ],
   "source": [
    "#creating neural network\n",
    "model = Sequential()\n",
    "model.add(LSTM(units = 50, return_sequences=True, input_shape=(x_train.shape[1], 1)))\n",
    "model.add(Dropout(0.2))\n",
    "model.add(LSTM(units = 50, return_sequences=True))\n",
    "model.add(Dropout(0.2))\n",
    "model.add(LSTM(units = 50))\n",
    "model.add(Dropout(0.2))\n",
    "model.add(Dense(units=1))\n",
    "\n",
    "model.compile(optimizer = 'adam', loss = 'mean_squared_error')\n",
    "model.fit(x_train, y_train, epochs = 25, batch_size = 32)"
   ]
  },
  {
   "cell_type": "code",
   "execution_count": 8,
   "id": "d29a86b2",
   "metadata": {},
   "outputs": [],
   "source": [
    "#testing model\n",
    "test_start = dt.datetime(2021, 1, 1)\n",
    "test_end = dt.datetime.now()"
   ]
  },
  {
   "cell_type": "code",
   "execution_count": 9,
   "id": "ab87f405",
   "metadata": {},
   "outputs": [],
   "source": [
    "test_data = web.DataReader(f'{crypto_mana}-{against_curr}', 'yahoo', test_start, test_end)\n",
    "actual_prices = test_data['Close'].values\n",
    "\n",
    "total_dataset = pd.concat((datadb['Close'],test_data['Close']), axis = 0)"
   ]
  },
  {
   "cell_type": "code",
   "execution_count": 10,
   "id": "dfb9adac",
   "metadata": {},
   "outputs": [],
   "source": [
    "model_inputs = total_dataset[len(total_dataset) - len(test_data) - prediction_days:].values\n",
    "model_inputs = model_inputs.reshape(-1, 1)\n",
    "model_inputs = scaler.fit_transform(model_inputs)"
   ]
  },
  {
   "cell_type": "code",
   "execution_count": 11,
   "id": "1bb930f8",
   "metadata": {},
   "outputs": [],
   "source": [
    "x_test = []\n",
    "for x in range(prediction_days, len(model_inputs)):\n",
    "    x_test.append(model_inputs[x-prediction_days:x, 0])\n",
    "    \n",
    "x_test = np.array(x_test)\n",
    "x_test = np.reshape(x_test, (x_test.shape[0], x_test.shape[1], 1))\n",
    "\n",
    "prediction_prices = model.predict(x_test)\n",
    "prediction_prices = scaler.inverse_transform(prediction_prices)"
   ]
  },
  {
   "cell_type": "code",
   "execution_count": 12,
   "id": "eca5aa6c",
   "metadata": {},
   "outputs": [
    {
     "data": {
      "image/png": "[encoded data removed]",
      "text/plain": [
       "<Figure size 432x288 with 1 Axes>"
      ]
     },
     "metadata": {
      "needs_background": "light"
     },
     "output_type": "display_data"
    }
   ],
   "source": [
    "plt.plot(actual_prices, color = 'black', label = \"Actual Prices\")\n",
    "plt.plot(prediction_prices, color = \"red\", label = \"Predicted Prices\")\n",
    "plt.title(f'{crypto_mana} price prediction')\n",
    "plt.xlabel('Time')\n",
    "plt.ylabel('Price')\n",
    "plt.legend(loc = \"upper left\")\n",
    "plt.show()\n"
   ]
  },
  {
   "cell_type": "code",
   "execution_count": 15,
   "id": "8f7e2a0e",
   "metadata": {},
   "outputs": [],
   "source": [
    "real_data = [model_inputs[len(model_inputs) + 1 - prediction_days:len(model_inputs) + 1, 0]]\n",
    "real_data = np.array(real_data)\n",
    "real_data = np.reshape(real_data, (real_data.shape[0], real_data.shape[1], 1))"
   ]
  },
  {
   "cell_type": "code",
   "execution_count": 16,
   "id": "0e8972d6",
   "metadata": {},
   "outputs": [
    {
     "name": "stdout",
     "output_type": "stream",
     "text": [
      "[[3.3073692]]\n"
     ]
    }
   ],
   "source": [
    "prediction = model.predict(real_data)\n",
    "prediction = scaler.inverse_transform(prediction)\n",
    "print(prediction)"
   ]
  },
  {
   "cell_type": "code",
   "execution_count": null,
   "id": "77c8c2de",
   "metadata": {},
   "outputs": [],
   "source": []
  },
  {
   "cell_type": "code",
   "execution_count": null,
   "id": "f51be67d",
   "metadata": {},
   "outputs": [],
   "source": []
  },
  {
   "cell_type": "code",
   "execution_count": null,
   "id": "c385ad06",
   "metadata": {},
   "outputs": [],
   "source": []
  }
 ],
 "metadata": {
  "kernelspec": {
   "display_name": "Python 3",
   "language": "python",
   "name": "python3"
  },
  "language_info": {
   "codemirror_mode": {
    "name": "ipython",
    "version": 3
   },
   "file_extension": ".py",
   "mimetype": "text/x-python",
   "name": "python",
   "nbconvert_exporter": "python",
   "pygments_lexer": "ipython3",
   "version": "3.8.8"
  }
 },
 "nbformat": 4,
 "nbformat_minor": 5
}
