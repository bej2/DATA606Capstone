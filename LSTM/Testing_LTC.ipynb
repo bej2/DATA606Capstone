{
 "cells": [
  {
   "cell_type": "code",
   "execution_count": 1,
   "id": "873128f8",
   "metadata": {},
   "outputs": [],
   "source": [
    "#importing libraries\n",
    "import pandas as pd\n",
    "import numpy as np\n",
    "import pandas_datareader as web\n",
    "import seaborn as sns\n",
    "import matplotlib.pyplot as plt\n",
    "import mplfinance as mpf\n",
    "import datetime as dt\n",
    "from matplotlib.pyplot import figure"
   ]
  },
  {
   "cell_type": "code",
   "execution_count": 2,
   "id": "59c9fcda",
   "metadata": {},
   "outputs": [],
   "source": [
    "#Training AND testing\n",
    "from sklearn.preprocessing import MinMaxScaler\n",
    "from tensorflow.keras.layers import Dense, Dropout, LSTM\n",
    "from tensorflow.keras.layers import Input, Dense, Activation, Dropout, BatchNormalization\n",
    "from tensorflow.keras.models import Sequential\n"
   ]
  },
  {
   "cell_type": "code",
   "execution_count": 3,
   "id": "00245801",
   "metadata": {},
   "outputs": [],
   "source": [
    "against_curr = 'USD'"
   ]
  },
  {
   "cell_type": "code",
   "execution_count": 4,
   "id": "b61acd8f",
   "metadata": {},
   "outputs": [],
   "source": [
    "crypto_ltc = 'LTC'\n",
    "colnames = []"
   ]
  },
  {
   "cell_type": "code",
   "execution_count": 5,
   "id": "24ebeffa",
   "metadata": {},
   "outputs": [],
   "source": [
    "start = dt.datetime(2016,1,1)\n",
    "end = dt.datetime.now()\n",
    "\n",
    "datadb = web.DataReader(f'{crypto_ltc}-{against_curr}', 'yahoo', start, end)\n",
    "\n",
    "scaler = MinMaxScaler(feature_range=(0,1))\n",
    "scaled_data = scaler.fit_transform(datadb['Close'].values.reshape(-1,1))\n",
    "prediction_days = 60\n",
    "#future_days01 = 180"
   ]
  },
  {
   "cell_type": "code",
   "execution_count": 6,
   "id": "009d78d3",
   "metadata": {},
   "outputs": [],
   "source": [
    "x_train, y_train = [], []\n",
    "for x in range(prediction_days, len(scaled_data)):\n",
    "    x_train.append(scaled_data[x-prediction_days:x, 0])\n",
    "    y_train.append(scaled_data[x, 0])\n",
    "    \n",
    "x_train, y_train = np.array(x_train), np.array(y_train)\n",
    "x_train = np.reshape(x_train, (x_train.shape[0], x_train.shape[1], 1))"
   ]
  },
  {
   "cell_type": "code",
   "execution_count": 7,
   "id": "0f606441",
   "metadata": {},
   "outputs": [
    {
     "name": "stdout",
     "output_type": "stream",
     "text": [
      "Epoch 1/25\n",
      "66/66 [==============================] - 22s 62ms/step - loss: 0.0092\n",
      "Epoch 2/25\n",
      "66/66 [==============================] - 4s 57ms/step - loss: 0.0038\n",
      "Epoch 3/25\n",
      "66/66 [==============================] - 4s 57ms/step - loss: 0.0032\n",
      "Epoch 4/25\n",
      "66/66 [==============================] - 4s 58ms/step - loss: 0.0026\n",
      "Epoch 5/25\n",
      "66/66 [==============================] - 4s 62ms/step - loss: 0.0025\n",
      "Epoch 6/25\n",
      "66/66 [==============================] - 4s 55ms/step - loss: 0.0023\n",
      "Epoch 7/25\n",
      "66/66 [==============================] - 4s 58ms/step - loss: 0.0021\n",
      "Epoch 8/25\n",
      "66/66 [==============================] - 4s 59ms/step - loss: 0.0019\n",
      "Epoch 9/25\n",
      "66/66 [==============================] - 4s 57ms/step - loss: 0.0018\n",
      "Epoch 10/25\n",
      "66/66 [==============================] - 3s 43ms/step - loss: 0.0019: 0s - los\n",
      "Epoch 11/25\n",
      "66/66 [==============================] - 3s 45ms/step - loss: 0.0016\n",
      "Epoch 12/25\n",
      "66/66 [==============================] - 3s 52ms/step - loss: 0.0015\n",
      "Epoch 13/25\n",
      "66/66 [==============================] - 4s 58ms/step - loss: 0.0017\n",
      "Epoch 14/25\n",
      "66/66 [==============================] - 3s 49ms/step - loss: 0.0014\n",
      "Epoch 15/25\n",
      "66/66 [==============================] - 3s 51ms/step - loss: 0.0017\n",
      "Epoch 16/25\n",
      "66/66 [==============================] - 4s 57ms/step - loss: 0.0013\n",
      "Epoch 17/25\n",
      "66/66 [==============================] - 3s 50ms/step - loss: 0.0014\n",
      "Epoch 18/25\n",
      "66/66 [==============================] - 3s 44ms/step - loss: 0.0014\n",
      "Epoch 19/25\n",
      "66/66 [==============================] - 3s 49ms/step - loss: 0.0013\n",
      "Epoch 20/25\n",
      "66/66 [==============================] - 4s 56ms/step - loss: 0.0012\n",
      "Epoch 21/25\n",
      "66/66 [==============================] - 4s 55ms/step - loss: 0.0012\n",
      "Epoch 22/25\n",
      "66/66 [==============================] - 4s 55ms/step - loss: 0.0013\n",
      "Epoch 23/25\n",
      "66/66 [==============================] - 4s 57ms/step - loss: 0.0013\n",
      "Epoch 24/25\n",
      "66/66 [==============================] - 4s 59ms/step - loss: 0.0011\n",
      "Epoch 25/25\n",
      "66/66 [==============================] - 4s 57ms/step - loss: 0.0010\n"
     ]
    },
    {
     "data": {
      "text/plain": [
       "<keras.callbacks.History at 0x2d22f845be0>"
      ]
     },
     "execution_count": 7,
     "metadata": {},
     "output_type": "execute_result"
    }
   ],
   "source": [
    "#creating neural network\n",
    "model = Sequential()\n",
    "model.add(LSTM(units = 50, return_sequences=True, input_shape=(x_train.shape[1], 1)))\n",
    "model.add(Dropout(0.2))\n",
    "model.add(LSTM(units = 50, return_sequences=True))\n",
    "model.add(Dropout(0.2))\n",
    "model.add(LSTM(units = 50))\n",
    "model.add(Dropout(0.2))\n",
    "model.add(Dense(units=1))\n",
    "\n",
    "model.compile(optimizer = 'adam', loss = 'mean_squared_error')\n",
    "model.fit(x_train, y_train, epochs = 25, batch_size = 32)"
   ]
  },
  {
   "cell_type": "code",
   "execution_count": 8,
   "id": "57c51202",
   "metadata": {},
   "outputs": [],
   "source": [
    "#testing model\n",
    "test_start = dt.datetime(2021, 1, 1)\n",
    "test_end = dt.datetime.now()"
   ]
  },
  {
   "cell_type": "code",
   "execution_count": 9,
   "id": "26e628cd",
   "metadata": {},
   "outputs": [],
   "source": [
    "test_data = web.DataReader(f'{crypto_ltc}-{against_curr}', 'yahoo', test_start, test_end)\n",
    "actual_prices = test_data['Close'].values\n",
    "\n",
    "\n",
    "total_dataset = pd.concat((datadb['Close'],test_data['Close']), axis = 0)"
   ]
  },
  {
   "cell_type": "code",
   "execution_count": 10,
   "id": "67de2ead",
   "metadata": {},
   "outputs": [],
   "source": [
    "model_inputs = total_dataset[len(total_dataset) - len(test_data) - prediction_days:].values\n",
    "model_inputs = model_inputs.reshape(-1, 1)\n",
    "model_inputs = scaler.fit_transform(model_inputs)"
   ]
  },
  {
   "cell_type": "code",
   "execution_count": 11,
   "id": "235e09bb",
   "metadata": {},
   "outputs": [],
   "source": [
    "x_test = []\n",
    "for x in range(prediction_days, len(model_inputs)):\n",
    "    x_test.append(model_inputs[x-prediction_days:x, 0])\n",
    "    \n",
    "x_test = np.array(x_test)\n",
    "x_test = np.reshape(x_test, (x_test.shape[0], x_test.shape[1], 1))\n",
    "\n",
    "prediction_prices = model.predict(x_test)\n",
    "prediction_prices = scaler.inverse_transform(prediction_prices)"
   ]
  },
  {
   "cell_type": "code",
   "execution_count": 12,
   "id": "0a0625ae",
   "metadata": {},
   "outputs": [
    {
     "data": {
      "image/png": "[encoded data removed]",
      "text/plain": [
       "<Figure size 432x288 with 1 Axes>"
      ]
     },
     "metadata": {
      "needs_background": "light"
     },
     "output_type": "display_data"
    }
   ],
   "source": [
    "plt.plot(actual_prices, color = 'black', label = \"Actual Prices\")\n",
    "plt.plot(prediction_prices, color = \"red\", label = \"Predicted Prices\")\n",
    "plt.title(f'{crypto_ltc} price prediction')\n",
    "plt.xlabel('Time')\n",
    "plt.ylabel('Price')\n",
    "plt.legend(loc = \"upper left\")\n",
    "plt.show()\n"
   ]
  },
  {
   "cell_type": "code",
   "execution_count": 15,
   "id": "76cdfadc",
   "metadata": {},
   "outputs": [],
   "source": [
    "real_data = [model_inputs[len(model_inputs) + 1 - prediction_days:len(model_inputs) - 1, 0]]\n",
    "real_data = np.array(real_data)\n",
    "real_data = np.reshape(real_data, (real_data.shape[0], real_data.shape[1], 1))"
   ]
  },
  {
   "cell_type": "code",
   "execution_count": 16,
   "id": "90982b47",
   "metadata": {},
   "outputs": [
    {
     "name": "stdout",
     "output_type": "stream",
     "text": [
      "[[155.30424]]\n"
     ]
    }
   ],
   "source": [
    "pred = model.predict(real_data)\n",
    "pred = scaler.inverse_transform(pred)\n",
    "print(pred)"
   ]
  },
  {
   "cell_type": "code",
   "execution_count": null,
   "id": "db452bef",
   "metadata": {},
   "outputs": [],
   "source": [
    "\n"
   ]
  },
  {
   "cell_type": "code",
   "execution_count": null,
   "id": "be13e324",
   "metadata": {},
   "outputs": [],
   "source": []
  }
 ],
 "metadata": {
  "kernelspec": {
   "display_name": "Python 3",
   "language": "python",
   "name": "python3"
  },
  "language_info": {
   "codemirror_mode": {
    "name": "ipython",
    "version": 3
   },
   "file_extension": ".py",
   "mimetype": "text/x-python",
   "name": "python",
   "nbconvert_exporter": "python",
   "pygments_lexer": "ipython3",
   "version": "3.8.8"
  }
 },
 "nbformat": 4,
 "nbformat_minor": 5
}
