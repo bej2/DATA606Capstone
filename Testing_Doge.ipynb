{
 "cells": [
  {
   "cell_type": "code",
   "execution_count": 1,
   "id": "eeb10a72",
   "metadata": {},
   "outputs": [
    {
     "name": "stdout",
     "output_type": "stream",
     "text": [
      "Requirement already satisfied: mplfinance in c:\\users\\dhruv\\anaconda3\\lib\\site-packages (0.12.7a17)\n",
      "Requirement already satisfied: pandas in c:\\users\\dhruv\\anaconda3\\lib\\site-packages (from mplfinance) (1.2.4)\n",
      "Requirement already satisfied: matplotlib in c:\\users\\dhruv\\anaconda3\\lib\\site-packages (from mplfinance) (3.3.4)\n",
      "Requirement already satisfied: numpy>=1.15 in c:\\users\\dhruv\\anaconda3\\lib\\site-packages (from matplotlib->mplfinance) (1.20.1)\n",
      "Requirement already satisfied: pillow>=6.2.0 in c:\\users\\dhruv\\anaconda3\\lib\\site-packages (from matplotlib->mplfinance) (8.2.0)\n",
      "Requirement already satisfied: pyparsing!=2.0.4,!=2.1.2,!=2.1.6,>=2.0.3 in c:\\users\\dhruv\\anaconda3\\lib\\site-packages (from matplotlib->mplfinance) (2.4.7)\n",
      "Requirement already satisfied: cycler>=0.10 in c:\\users\\dhruv\\anaconda3\\lib\\site-packages (from matplotlib->mplfinance) (0.10.0)\n",
      "Requirement already satisfied: python-dateutil>=2.1 in c:\\users\\dhruv\\anaconda3\\lib\\site-packages (from matplotlib->mplfinance) (2.8.1)\n",
      "Requirement already satisfied: kiwisolver>=1.0.1 in c:\\users\\dhruv\\anaconda3\\lib\\site-packages (from matplotlib->mplfinance) (1.3.1)\n",
      "Requirement already satisfied: six in c:\\users\\dhruv\\anaconda3\\lib\\site-packages (from cycler>=0.10->matplotlib->mplfinance) (1.15.0)\n",
      "Requirement already satisfied: pytz>=2017.3 in c:\\users\\dhruv\\anaconda3\\lib\\site-packages (from pandas->mplfinance) (2021.1)\n"
     ]
    }
   ],
   "source": [
    "#importing libraries\n",
    "import pandas as pd\n",
    "import numpy as np\n",
    "import pandas_datareader as web\n",
    "import seaborn as sns\n",
    "import matplotlib.pyplot as plt\n",
    "!pip install mplfinance\n",
    "import mplfinance as mpf\n",
    "import datetime as dt\n",
    "from matplotlib.pyplot import figure"
   ]
  },
  {
   "cell_type": "code",
   "execution_count": 2,
   "id": "040614d0",
   "metadata": {},
   "outputs": [],
   "source": [
    "#Training AND testing\n",
    "from sklearn.preprocessing import MinMaxScaler\n",
    "from tensorflow.keras.layers import Dense, Dropout, LSTM\n",
    "from tensorflow.keras.layers import Input, Dense, Activation, Dropout, BatchNormalization\n",
    "from tensorflow.keras.models import Sequential\n",
    "from tensorflow.python import *"
   ]
  },
  {
   "cell_type": "code",
   "execution_count": 3,
   "id": "b1ad20c6",
   "metadata": {},
   "outputs": [],
   "source": [
    "against_curr = 'USD'"
   ]
  },
  {
   "cell_type": "code",
   "execution_count": 4,
   "id": "ccae887a",
   "metadata": {},
   "outputs": [],
   "source": [
    "crypto_doge = 'DOGE'\n",
    "colnames = []"
   ]
  },
  {
   "cell_type": "code",
   "execution_count": 5,
   "id": "6fcec4cb",
   "metadata": {},
   "outputs": [],
   "source": [
    "start = dt.datetime(2016,1,1)\n",
    "end = dt.datetime.now()\n",
    "\n",
    "datadb = web.DataReader(f'{crypto_doge}-{against_curr}', 'yahoo', start, end)\n",
    "\n",
    "scaler = MinMaxScaler(feature_range=(0,1))\n",
    "scaled_data = scaler.fit_transform(datadb['Close'].values.reshape(-1,1))\n",
    "prediction_days = 60\n",
    "#future_days01 = 180"
   ]
  },
  {
   "cell_type": "code",
   "execution_count": 6,
   "id": "e104e095",
   "metadata": {},
   "outputs": [],
   "source": [
    "x_train, y_train = [], []\n",
    "for x in range(prediction_days, len(scaled_data)):\n",
    "    x_train.append(scaled_data[x-prediction_days:x, 0])\n",
    "    y_train.append(scaled_data[x, 0])\n",
    "    \n",
    "x_train, y_train = np.array(x_train), np.array(y_train)\n",
    "x_train = np.reshape(x_train, (x_train.shape[0], x_train.shape[1], 1))"
   ]
  },
  {
   "cell_type": "code",
   "execution_count": 7,
   "id": "3f0f9853",
   "metadata": {},
   "outputs": [
    {
     "name": "stdout",
     "output_type": "stream",
     "text": [
      "Epoch 1/25\n",
      "65/65 [==============================] - 12s 70ms/step - loss: 0.0037\n",
      "Epoch 2/25\n",
      "65/65 [==============================] - 5s 84ms/step - loss: 0.0021\n",
      "Epoch 3/25\n",
      "65/65 [==============================] - 6s 89ms/step - loss: 0.0015\n",
      "Epoch 4/25\n",
      "65/65 [==============================] - 6s 94ms/step - loss: 0.0013\n",
      "Epoch 5/25\n",
      "65/65 [==============================] - 5s 79ms/step - loss: 0.0014\n",
      "Epoch 6/25\n",
      "65/65 [==============================] - 7s 109ms/step - loss: 0.0012\n",
      "Epoch 7/25\n",
      "65/65 [==============================] - 6s 86ms/step - loss: 0.0012\n",
      "Epoch 8/25\n",
      "65/65 [==============================] - 5s 84ms/step - loss: 0.0011\n",
      "Epoch 9/25\n",
      "65/65 [==============================] - 5s 81ms/step - loss: 0.0013\n",
      "Epoch 10/25\n",
      "65/65 [==============================] - 5s 82ms/step - loss: 0.0012\n",
      "Epoch 11/25\n",
      "65/65 [==============================] - 6s 90ms/step - loss: 0.0011\n",
      "Epoch 12/25\n",
      "65/65 [==============================] - 5s 82ms/step - loss: 0.0010\n",
      "Epoch 13/25\n",
      "65/65 [==============================] - 6s 85ms/step - loss: 9.7097e-04\n",
      "Epoch 14/25\n",
      "65/65 [==============================] - 6s 89ms/step - loss: 0.0010\n",
      "Epoch 15/25\n",
      "65/65 [==============================] - 5s 84ms/step - loss: 0.0010\n",
      "Epoch 16/25\n",
      "65/65 [==============================] - 6s 85ms/step - loss: 9.6110e-04\n",
      "Epoch 17/25\n",
      "65/65 [==============================] - 5s 82ms/step - loss: 0.0010\n",
      "Epoch 18/25\n",
      "65/65 [==============================] - 5s 78ms/step - loss: 8.5853e-04\n",
      "Epoch 19/25\n",
      "65/65 [==============================] - 4s 64ms/step - loss: 8.8079e-04\n",
      "Epoch 20/25\n",
      "65/65 [==============================] - 4s 56ms/step - loss: 7.8448e-04\n",
      "Epoch 21/25\n",
      "65/65 [==============================] - 4s 56ms/step - loss: 8.7408e-04\n",
      "Epoch 22/25\n",
      "65/65 [==============================] - 3s 54ms/step - loss: 7.6771e-04\n",
      "Epoch 23/25\n",
      "65/65 [==============================] - 4s 57ms/step - loss: 6.6580e-04\n",
      "Epoch 24/25\n",
      "65/65 [==============================] - 5s 72ms/step - loss: 6.8570e-04\n",
      "Epoch 25/25\n",
      "65/65 [==============================] - 4s 57ms/step - loss: 7.1621e-04\n"
     ]
    },
    {
     "data": {
      "text/plain": [
       "<keras.callbacks.History at 0x20957cec610>"
      ]
     },
     "execution_count": 7,
     "metadata": {},
     "output_type": "execute_result"
    }
   ],
   "source": [
    "#creating neural network\n",
    "model = Sequential()\n",
    "model.add(LSTM(units = 50, return_sequences=True, input_shape=(x_train.shape[1], 1)))\n",
    "model.add(Dropout(0.2))\n",
    "model.add(LSTM(units = 50, return_sequences=True))\n",
    "model.add(Dropout(0.2))\n",
    "model.add(LSTM(units = 50))\n",
    "model.add(Dropout(0.2))\n",
    "model.add(Dense(units=1))\n",
    "\n",
    "model.compile(optimizer = 'adam', loss = 'mean_squared_error')\n",
    "model.fit(x_train, y_train, epochs = 25, batch_size = 32)"
   ]
  },
  {
   "cell_type": "code",
   "execution_count": 8,
   "id": "8c5672f7",
   "metadata": {},
   "outputs": [],
   "source": [
    "#testing model\n",
    "test_start = dt.datetime(2021, 1, 1)\n",
    "test_end = dt.datetime.now()"
   ]
  },
  {
   "cell_type": "code",
   "execution_count": 9,
   "id": "7e55062e",
   "metadata": {},
   "outputs": [],
   "source": [
    "test_data = web.DataReader(f'{crypto_doge}-{against_curr}', 'yahoo', test_start, test_end)\n",
    "actual_prices = test_data['Close'].values\n",
    "\n",
    "\n",
    "total_dataset = pd.concat((datadb['Close'],test_data['Close']), axis = 0)"
   ]
  },
  {
   "cell_type": "code",
   "execution_count": 10,
   "id": "ac85e64a",
   "metadata": {},
   "outputs": [],
   "source": [
    "model_inputs = total_dataset[len(total_dataset) - len(test_data) - prediction_days:].values\n",
    "model_inputs = model_inputs.reshape(-1, 1)\n",
    "model_inputs = scaler.fit_transform(model_inputs)"
   ]
  },
  {
   "cell_type": "code",
   "execution_count": 11,
   "id": "a276d498",
   "metadata": {},
   "outputs": [],
   "source": [
    "x_test = []\n",
    "for x in range(prediction_days, len(model_inputs)):\n",
    "    x_test.append(model_inputs[x-prediction_days:x, 0])\n",
    "    \n",
    "x_test = np.array(x_test)\n",
    "x_test = np.reshape(x_test, (x_test.shape[0], x_test.shape[1], 1))\n",
    "\n",
    "\n",
    "prediction_prices = model.predict(x_test)\n",
    "prediction_prices = scaler.inverse_transform(prediction_prices)"
   ]
  },
  {
   "cell_type": "code",
   "execution_count": 12,
   "id": "bb441a99",
   "metadata": {},
   "outputs": [
    {
     "data": {
      "image/png": "[encoded data removed]",
      "text/plain": [
       "<Figure size 432x288 with 1 Axes>"
      ]
     },
     "metadata": {
      "needs_background": "light"
     },
     "output_type": "display_data"
    }
   ],
   "source": [
    "plt.plot(actual_prices, color = 'black', label = \"Actual Prices\")\n",
    "plt.plot(prediction_prices, color = \"red\", label = \"Predicted Prices\")\n",
    "plt.title(f'{crypto_doge} price prediction')\n",
    "plt.xlabel('Time')\n",
    "plt.ylabel('Price')\n",
    "plt.legend(loc = \"upper left\")\n",
    "plt.show()\n"
   ]
  },
  {
   "cell_type": "code",
   "execution_count": 15,
   "id": "d38614ce",
   "metadata": {},
   "outputs": [],
   "source": [
    "real_data = [model_inputs[len(model_inputs) + 1 - prediction_days:len(model_inputs) - 1, 0]]\n",
    "real_data = np.array(real_data)\n",
    "real_data = np.reshape(real_data, (real_data.shape[0], real_data.shape[1], 1))"
   ]
  },
  {
   "cell_type": "code",
   "execution_count": 16,
   "id": "5cf436be",
   "metadata": {},
   "outputs": [
    {
     "name": "stdout",
     "output_type": "stream",
     "text": [
      "[[0.24928214]]\n"
     ]
    }
   ],
   "source": [
    "prediction = model.predict(real_data)\n",
    "prediction = scaler.inverse_transform(prediction)\n",
    "print(prediction)"
   ]
  },
  {
   "cell_type": "code",
   "execution_count": null,
   "id": "b6dddef6",
   "metadata": {},
   "outputs": [],
   "source": []
  }
 ],
 "metadata": {
  "kernelspec": {
   "display_name": "Python 3",
   "language": "python",
   "name": "python3"
  },
  "language_info": {
   "codemirror_mode": {
    "name": "ipython",
    "version": 3
   },
   "file_extension": ".py",
   "mimetype": "text/x-python",
   "name": "python",
   "nbconvert_exporter": "python",
   "pygments_lexer": "ipython3",
   "version": "3.8.8"
  }
 },
 "nbformat": 4,
 "nbformat_minor": 5
}
