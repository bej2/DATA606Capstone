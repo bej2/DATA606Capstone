{
  "nbformat": 4,
  "nbformat_minor": 0,
  "metadata": {
    "colab": {
      "name": "Untitled0.ipynb",
      "provenance": [],
      "collapsed_sections": []
    },
    "kernelspec": {
      "name": "python3",
      "display_name": "Python 3"
    },
    "language_info": {
      "name": "python"
    }
  },
  "cells": [
    {
      "cell_type": "markdown",
      "metadata": {
        "id": "1tPj39JWGrGZ"
      },
      "source": [
        " Reference: https://towardsdatascience.com/step-by-step-twitter-sentiment-analysis-in-python-d6f650ade58d"
      ]
    },
    {
      "cell_type": "code",
      "metadata": {
        "id": "6xVqKRD7wjOe"
      },
      "source": [
        ""
      ],
      "execution_count": null,
      "outputs": []
    },
    {
      "cell_type": "code",
      "metadata": {
        "id": "m-uuB_5yFyYz",
        "colab": {
          "base_uri": "https://localhost:8080/"
        },
        "outputId": "f76f6abe-be9b-43fc-ddad-f75bf66e8ce2"
      },
      "source": [
        "# Import Libraries\n",
        "from textblob import TextBlob\n",
        "import sys\n",
        "import datetime\n",
        "import tweepy\n",
        "import matplotlib.pyplot as plt\n",
        "import pandas as pd\n",
        "import numpy as np\n",
        "import os\n",
        "import nltk\n",
        "import re\n",
        "import string\n",
        "from wordcloud import WordCloud, STOPWORDS\n",
        "from PIL import Image\n",
        "from nltk.sentiment.vader import SentimentIntensityAnalyzer\n",
        "from nltk.stem import SnowballStemmer\n",
        "from nltk.sentiment.vader import SentimentIntensityAnalyzer\n",
        "from sklearn.feature_extraction.text import CountVectorizer\n",
        "import nltk\n",
        "#nlkt.download('twitter')\n",
        "nltk.download('vader_lexicon')\n",
        "nltk.download('stopwords')"
      ],
      "execution_count": 23,
      "outputs": [
        {
          "output_type": "stream",
          "name": "stdout",
          "text": [
            "[nltk_data] Downloading package vader_lexicon to /root/nltk_data...\n",
            "[nltk_data]   Package vader_lexicon is already up-to-date!\n",
            "[nltk_data] Downloading package stopwords to /root/nltk_data...\n",
            "[nltk_data]   Package stopwords is already up-to-date!\n"
          ]
        },
        {
          "output_type": "execute_result",
          "data": {
            "text/plain": [
              "True"
            ]
          },
          "metadata": {},
          "execution_count": 23
        }
      ]
    },
    {
      "cell_type": "code",
      "metadata": {
        "id": "W0j--ZftFyb4"
      },
      "source": [
        "# Authentication\n",
        "consumerKey = 'VapnFlTNQ8YnfkJacHJ3pA9Mq'\n",
        "consumerSecret = 'csAcKfbYfO6FCwPCdvMFe5QFmNV7Z5RWsQndEcMEhfhz2UZBKd'\n",
        "accessToken = '1447703825251553280-p8XMMIVHoiA0dEWSBUfsv9i9FWihi8'\n",
        "accessTokenSecret = 'jlgbfYKfqtb1q6beW4TqmJ7naqvtBkuROk9cfPzoOJ1We'\n",
        "auth = tweepy.OAuthHandler(consumerKey, consumerSecret)\n",
        "auth.set_access_token(accessToken, accessTokenSecret)\n",
        "api = tweepy.API(auth)"
      ],
      "execution_count": 24,
      "outputs": []
    },
    {
      "cell_type": "code",
      "metadata": {
        "id": "sNRLfjlnFye2"
      },
      "source": [
        "#Sentiment Analysis For Bitcoin\n",
        "def percentage(part,whole):\n",
        " return 100 * float(part)/float(whole)\n",
        "keyword = 'Bitcoin'\n",
        "noOfTweet = 1000\n",
        "\n",
        "tweets = tweepy.Cursor(api.search, q=keyword).items(noOfTweet)\n",
        "\n",
        "positive = 0\n",
        "negative = 0\n",
        "neutral = 0\n",
        "polarity = 0\n",
        "tweet_list = []\n",
        "neutral_list = []\n",
        "negative_list = []\n",
        "positive_list = []\n",
        "for tweet in tweets:\n",
        "  #print(tweet.text)\n",
        "  tweet_list.append(tweet.text)\n",
        "  analysis = TextBlob(tweet.text)\n",
        "  score = SentimentIntensityAnalyzer().polarity_scores(tweet.text)\n",
        "  neg = score['neg']\n",
        "  neu = score['neu']\n",
        "  pos = score['pos']\n",
        "  comp = score['compound']\n",
        "  polarity += analysis.sentiment.polarity\n",
        "  \n",
        "  if neg > pos:\n",
        "    negative_list.append(tweet.text)\n",
        "    negative += 1\n",
        "  elif pos > neg:\n",
        "    positive_list.append(tweet.text)\n",
        "    positive += 1\n",
        "  elif pos == neg:\n",
        "    neutral_list.append(tweet.text)\n",
        "    neutral += 1\n",
        "positive = percentage(positive, noOfTweet)\n",
        "negative = percentage(negative, noOfTweet)\n",
        "neutral = percentage(neutral, noOfTweet)\n",
        "polarity = percentage(polarity, noOfTweet)\n",
        "positive = format(positive, '.1f')\n",
        "negative = format(negative, '.1f')\n",
        "neutral = format(neutral, '.1f')"
      ],
      "execution_count": 27,
      "outputs": []
    },
    {
      "cell_type": "code",
      "metadata": {
        "id": "ReepDk5AFyhk",
        "colab": {
          "base_uri": "https://localhost:8080/"
        },
        "outputId": "51243e03-0c77-4b3b-895e-809d30c7da38"
      },
      "source": [
        "#Number of Tweets (Total, Positive, Negative, Neutral)\n",
        "btc_tweet_list = pd.DataFrame(tweet_list)\n",
        "btc_neutral_list = pd.DataFrame(neutral_list)\n",
        "btc_negative_list = pd.DataFrame(negative_list)\n",
        "btc_positive_list = pd.DataFrame(positive_list)\n",
        "print(\"total number: \",len(btc_tweet_list))\n",
        "print(\"positive number: \",len(btc_positive_list))\n",
        "print(\"negative number: \", len(btc_negative_list))\n",
        "print(\"neutral number: \",len(neutral_list))"
      ],
      "execution_count": 28,
      "outputs": [
        {
          "output_type": "stream",
          "name": "stdout",
          "text": [
            "total number:  1000\n",
            "positive number:  345\n",
            "negative number:  82\n",
            "neutral number:  573\n"
          ]
        }
      ]
    },
    {
      "cell_type": "code",
      "metadata": {
        "id": "izP7lQxbHDTb",
        "colab": {
          "base_uri": "https://localhost:8080/",
          "height": 428
        },
        "outputId": "f552134b-ae18-46bd-9781-6b90835ec185"
      },
      "source": [
        "#Creating PieCart\n",
        "labels = ['Positive ['+str(positive)+'%]' , 'Neutral ['+str(neutral)+'%]','Negative ['+str(negative)+'%]']\n",
        "sizes = [positive, neutral, negative]\n",
        "colors = ['yellowgreen', 'blue','red']\n",
        "patches, texts = plt.pie(sizes,colors=colors, startangle=90)\n",
        "plt.style.use('default')\n",
        "plt.legend(labels)\n",
        "plt.title(\"Sentiment Analysis Result for keyword= \"+keyword+\"\" )\n",
        "plt.axis('equal')\n",
        "plt.show()"
      ],
      "execution_count": 29,
      "outputs": [
        {
          "output_type": "display_data",
          "data": {
            "image/png": "[encoded data removed]",
            "text/plain": [
              "<Figure size 640x480 with 1 Axes>"
            ]
          },
          "metadata": {}
        }
      ]
    },
    {
      "cell_type": "code",
      "metadata": {
        "id": "yYZPwzZxHG8x",
        "colab": {
          "base_uri": "https://localhost:8080/",
          "height": 419
        },
        "outputId": "41875e21-ecd3-4e26-ecc9-c2c3fd663f3c"
      },
      "source": [
        "btc_tweet_list"
      ],
      "execution_count": 30,
      "outputs": [
        {
          "output_type": "execute_result",
          "data": {
            "text/html": [
              "<div>\n",
              "<style scoped>\n",
              "    .dataframe tbody tr th:only-of-type {\n",
              "        vertical-align: middle;\n",
              "    }\n",
              "\n",
              "    .dataframe tbody tr th {\n",
              "        vertical-align: top;\n",
              "    }\n",
              "\n",
              "    .dataframe thead th {\n",
              "        text-align: right;\n",
              "    }\n",
              "</style>\n",
              "<table border=\"1\" class=\"dataframe\">\n",
              "  <thead>\n",
              "    <tr style=\"text-align: right;\">\n",
              "      <th></th>\n",
              "      <th>0</th>\n",
              "    </tr>\n",
              "  </thead>\n",
              "  <tbody>\n",
              "    <tr>\n",
              "      <th>0</th>\n",
              "      <td>RT @BTCLegolas: and you have my bow #Bitcoin h...</td>\n",
              "    </tr>\n",
              "    <tr>\n",
              "      <th>1</th>\n",
              "      <td>#bitcoin bakalım kimler su akarken testisini d...</td>\n",
              "    </tr>\n",
              "    <tr>\n",
              "      <th>2</th>\n",
              "      <td>https://t.co/NnZKplK972</td>\n",
              "    </tr>\n",
              "    <tr>\n",
              "      <th>3</th>\n",
              "      <td>RT @SorunsalElliTon: #Bitcoin Yeni ATH şerefin...</td>\n",
              "    </tr>\n",
              "    <tr>\n",
              "      <th>4</th>\n",
              "      <td>RT @APompliano: This was me. I sold my recurri...</td>\n",
              "    </tr>\n",
              "    <tr>\n",
              "      <th>...</th>\n",
              "      <td>...</td>\n",
              "    </tr>\n",
              "    <tr>\n",
              "      <th>995</th>\n",
              "      <td>@Tamsiliette 10k bitcoin likely means a global...</td>\n",
              "    </tr>\n",
              "    <tr>\n",
              "      <th>996</th>\n",
              "      <td>RT @kriptoalice: #Bitcoin Yeni ATH Şerefine \\n...</td>\n",
              "    </tr>\n",
              "    <tr>\n",
              "      <th>997</th>\n",
              "      <td>RT @saylor: #Bitcoin went public today. Satosh...</td>\n",
              "    </tr>\n",
              "    <tr>\n",
              "      <th>998</th>\n",
              "      <td>Bitcoin surges above $64,000 https://t.co/ZTAX...</td>\n",
              "    </tr>\n",
              "    <tr>\n",
              "      <th>999</th>\n",
              "      <td>RT @yousefNFT: #bitcoin to 100k????</td>\n",
              "    </tr>\n",
              "  </tbody>\n",
              "</table>\n",
              "<p>1000 rows × 1 columns</p>\n",
              "</div>"
            ],
            "text/plain": [
              "                                                     0\n",
              "0    RT @BTCLegolas: and you have my bow #Bitcoin h...\n",
              "1    #bitcoin bakalım kimler su akarken testisini d...\n",
              "2                              https://t.co/NnZKplK972\n",
              "3    RT @SorunsalElliTon: #Bitcoin Yeni ATH şerefin...\n",
              "4    RT @APompliano: This was me. I sold my recurri...\n",
              "..                                                 ...\n",
              "995  @Tamsiliette 10k bitcoin likely means a global...\n",
              "996  RT @kriptoalice: #Bitcoin Yeni ATH Şerefine \\n...\n",
              "997  RT @saylor: #Bitcoin went public today. Satosh...\n",
              "998  Bitcoin surges above $64,000 https://t.co/ZTAX...\n",
              "999                RT @yousefNFT: #bitcoin to 100k????\n",
              "\n",
              "[1000 rows x 1 columns]"
            ]
          },
          "metadata": {},
          "execution_count": 30
        }
      ]
    },
    {
      "cell_type": "code",
      "metadata": {
        "id": "hJLA6DRmY1vB"
      },
      "source": [
        "clean_btc_tweets =  btc_tweet_list"
      ],
      "execution_count": 7,
      "outputs": []
    },
    {
      "cell_type": "code",
      "metadata": {
        "id": "V7LYSfjLHG_7"
      },
      "source": [
        "clean_btc_tweets.drop_duplicates(inplace = True)"
      ],
      "execution_count": 8,
      "outputs": []
    },
    {
      "cell_type": "code",
      "metadata": {
        "id": "RHCQd99iHHCo",
        "colab": {
          "base_uri": "https://localhost:8080/",
          "height": 359
        },
        "outputId": "1a6ef9b6-4d9b-404d-b7ee-d361c9a65585"
      },
      "source": [
        "#Cleaning Text (RT, Punctuation etc)\n",
        "#Creating new dataframe and new features\n",
        "btc_tw_list = pd.DataFrame(clean_btc_tweets)\n",
        "btc_tw_list[\"text\"] = btc_tw_list[0]\n",
        "#Removing RT, Punctuation etc\n",
        "remove_rt = lambda x: re.sub('RT @\\w+: ',\" \",x)\n",
        "rt = lambda x: re.sub(\"(@[A-Za-z0–9]+)|([0-9A-Za-z \\t])|(\\w+:\\/\\/\\S+)\",\" \",x)\n",
        "btc_tw_list[\"text\"] = btc_tw_list.text.map(remove_rt).map(rt)\n",
        "btc_tw_list[\"text\"] = btc_tw_list.text.str.lower()\n",
        "btc_tw_list.head(10)"
      ],
      "execution_count": 9,
      "outputs": [
        {
          "output_type": "execute_result",
          "data": {
            "text/html": [
              "<div>\n",
              "<style scoped>\n",
              "    .dataframe tbody tr th:only-of-type {\n",
              "        vertical-align: middle;\n",
              "    }\n",
              "\n",
              "    .dataframe tbody tr th {\n",
              "        vertical-align: top;\n",
              "    }\n",
              "\n",
              "    .dataframe thead th {\n",
              "        text-align: right;\n",
              "    }\n",
              "</style>\n",
              "<table border=\"1\" class=\"dataframe\">\n",
              "  <thead>\n",
              "    <tr style=\"text-align: right;\">\n",
              "      <th></th>\n",
              "      <th>0</th>\n",
              "      <th>text</th>\n",
              "    </tr>\n",
              "  </thead>\n",
              "  <tbody>\n",
              "    <tr>\n",
              "      <th>0</th>\n",
              "      <td>RT @APompliano: BREAKING: $2.2 trillion asset ...</td>\n",
              "      <td>: $ .                                ...</td>\n",
              "    </tr>\n",
              "    <tr>\n",
              "      <th>1</th>\n",
              "      <td>RT @cryptoZeo: @McKinsey Kasım ayı itibariyle ...</td>\n",
              "      <td>ı    ı                         ğ      ş ...</td>\n",
              "    </tr>\n",
              "    <tr>\n",
              "      <th>2</th>\n",
              "      <td>RT @Bitcoin: Trying to figure out how well you...</td>\n",
              "      <td>...</td>\n",
              "    </tr>\n",
              "    <tr>\n",
              "      <th>3</th>\n",
              "      <td>@PeterSchiff your gold is provenly rigged pete...</td>\n",
              "      <td>.\\n\\n     ...</td>\n",
              "    </tr>\n",
              "    <tr>\n",
              "      <th>4</th>\n",
              "      <td>RT @SorunsalElliTon: #Bitcoin Yeni ATH şerefin...</td>\n",
              "      <td>#                 ş        #ç     ş\\n\\n-     ...</td>\n",
              "    </tr>\n",
              "    <tr>\n",
              "      <th>5</th>\n",
              "      <td>Hocam biz sizin günah keçiniz değiliz!\\nValla ...</td>\n",
              "      <td>ü      ç       ğ    !\\n      ...</td>\n",
              "    </tr>\n",
              "    <tr>\n",
              "      <th>6</th>\n",
              "      <td>RT @fw_slick: $1,000 in #Bitcoin to one person...</td>\n",
              "      <td>$ ,       #                                  ...</td>\n",
              "    </tr>\n",
              "    <tr>\n",
              "      <th>7</th>\n",
              "      <td>@IOHK_Charles  join us @ThePeoples_Coin to hel...</td>\n",
              "      <td>_                  _                         ...</td>\n",
              "    </tr>\n",
              "    <tr>\n",
              "      <th>8</th>\n",
              "      <td>RT @Alyattes_ALYA: Passive Income even in Pres...</td>\n",
              "      <td>! \\n\\n         ...</td>\n",
              "    </tr>\n",
              "    <tr>\n",
              "      <th>9</th>\n",
              "      <td>@HazardPay5 @Bitcoin1Actual @LynAldenContact F...</td>\n",
              "      <td>,               ...</td>\n",
              "    </tr>\n",
              "  </tbody>\n",
              "</table>\n",
              "</div>"
            ],
            "text/plain": [
              "                                                   0                                               text\n",
              "0  RT @APompliano: BREAKING: $2.2 trillion asset ...           : $ .                                ...\n",
              "1  RT @cryptoZeo: @McKinsey Kasım ayı itibariyle ...        ı    ı                         ğ      ş ...\n",
              "2  RT @Bitcoin: Trying to figure out how well you...                                                ...\n",
              "3  @PeterSchiff your gold is provenly rigged pete...                                      .\\n\\n     ...\n",
              "4  RT @SorunsalElliTon: #Bitcoin Yeni ATH şerefin...   #                 ş        #ç     ş\\n\\n-     ...\n",
              "5  Hocam biz sizin günah keçiniz değiliz!\\nValla ...                   ü      ç       ğ    !\\n      ...\n",
              "6  RT @fw_slick: $1,000 in #Bitcoin to one person...   $ ,       #                                  ...\n",
              "7  @IOHK_Charles  join us @ThePeoples_Coin to hel...   _                  _                         ...\n",
              "8  RT @Alyattes_ALYA: Passive Income even in Pres...                                 ! \\n\\n         ...\n",
              "9  @HazardPay5 @Bitcoin1Actual @LynAldenContact F...                                ,               ..."
            ]
          },
          "metadata": {},
          "execution_count": 9
        }
      ]
    },
    {
      "cell_type": "code",
      "metadata": {
        "id": "Mjku0GT8HK4q",
        "colab": {
          "base_uri": "https://localhost:8080/",
          "height": 359
        },
        "outputId": "f0fab6e8-30ac-4d36-bb0c-d8d454c665d4"
      },
      "source": [
        "#Calculating Negative, Positive, Neutral and Compound values\n",
        "btc_tw_list[['polarity', 'subjectivity']] = btc_tw_list['text'].apply(lambda Text: pd.Series(TextBlob(Text).sentiment))\n",
        "for index, row in btc_tw_list['text'].iteritems():\n",
        "  score = SentimentIntensityAnalyzer().polarity_scores(row)\n",
        "  neg = score['neg']\n",
        "  neu = score['neu']\n",
        "  pos = score['pos']\n",
        "  comp = score['compound']\n",
        "  if neg > pos:\n",
        "    btc_tw_list.loc[index, 'sentiment'] = \"negative\"\n",
        "  elif pos > neg:\n",
        "    btc_tw_list.loc[index, 'sentiment'] = \"positive\"\n",
        "  else:\n",
        "    btc_tw_list.loc[index, 'sentiment'] = \"neutral\"\n",
        "    btc_tw_list.loc[index, 'neg'] = neg\n",
        "    btc_tw_list.loc[index, 'neu'] = neu\n",
        "    btc_tw_list.loc[index, 'pos'] = pos\n",
        "    btc_tw_list.loc[index, 'compound'] = comp\n",
        "btc_tw_list.head(10)"
      ],
      "execution_count": 10,
      "outputs": [
        {
          "output_type": "execute_result",
          "data": {
            "text/html": [
              "<div>\n",
              "<style scoped>\n",
              "    .dataframe tbody tr th:only-of-type {\n",
              "        vertical-align: middle;\n",
              "    }\n",
              "\n",
              "    .dataframe tbody tr th {\n",
              "        vertical-align: top;\n",
              "    }\n",
              "\n",
              "    .dataframe thead th {\n",
              "        text-align: right;\n",
              "    }\n",
              "</style>\n",
              "<table border=\"1\" class=\"dataframe\">\n",
              "  <thead>\n",
              "    <tr style=\"text-align: right;\">\n",
              "      <th></th>\n",
              "      <th>0</th>\n",
              "      <th>text</th>\n",
              "      <th>polarity</th>\n",
              "      <th>subjectivity</th>\n",
              "      <th>sentiment</th>\n",
              "      <th>neg</th>\n",
              "      <th>neu</th>\n",
              "      <th>pos</th>\n",
              "      <th>compound</th>\n",
              "    </tr>\n",
              "  </thead>\n",
              "  <tbody>\n",
              "    <tr>\n",
              "      <th>0</th>\n",
              "      <td>RT @APompliano: BREAKING: $2.2 trillion asset ...</td>\n",
              "      <td>: $ .                                ...</td>\n",
              "      <td>0.0</td>\n",
              "      <td>0.0</td>\n",
              "      <td>neutral</td>\n",
              "      <td>0.0</td>\n",
              "      <td>1.0</td>\n",
              "      <td>0.0</td>\n",
              "      <td>0.0</td>\n",
              "    </tr>\n",
              "    <tr>\n",
              "      <th>1</th>\n",
              "      <td>RT @cryptoZeo: @McKinsey Kasım ayı itibariyle ...</td>\n",
              "      <td>ı    ı                         ğ      ş ...</td>\n",
              "      <td>0.0</td>\n",
              "      <td>0.0</td>\n",
              "      <td>neutral</td>\n",
              "      <td>0.0</td>\n",
              "      <td>1.0</td>\n",
              "      <td>0.0</td>\n",
              "      <td>0.0</td>\n",
              "    </tr>\n",
              "    <tr>\n",
              "      <th>2</th>\n",
              "      <td>RT @Bitcoin: Trying to figure out how well you...</td>\n",
              "      <td>...</td>\n",
              "      <td>0.0</td>\n",
              "      <td>0.0</td>\n",
              "      <td>neutral</td>\n",
              "      <td>0.0</td>\n",
              "      <td>1.0</td>\n",
              "      <td>0.0</td>\n",
              "      <td>0.0</td>\n",
              "    </tr>\n",
              "    <tr>\n",
              "      <th>3</th>\n",
              "      <td>@PeterSchiff your gold is provenly rigged pete...</td>\n",
              "      <td>.\\n\\n     ...</td>\n",
              "      <td>0.0</td>\n",
              "      <td>0.0</td>\n",
              "      <td>neutral</td>\n",
              "      <td>0.0</td>\n",
              "      <td>1.0</td>\n",
              "      <td>0.0</td>\n",
              "      <td>0.0</td>\n",
              "    </tr>\n",
              "    <tr>\n",
              "      <th>4</th>\n",
              "      <td>RT @SorunsalElliTon: #Bitcoin Yeni ATH şerefin...</td>\n",
              "      <td>#                 ş        #ç     ş\\n\\n-     ...</td>\n",
              "      <td>0.0</td>\n",
              "      <td>0.0</td>\n",
              "      <td>neutral</td>\n",
              "      <td>0.0</td>\n",
              "      <td>1.0</td>\n",
              "      <td>0.0</td>\n",
              "      <td>0.0</td>\n",
              "    </tr>\n",
              "    <tr>\n",
              "      <th>5</th>\n",
              "      <td>Hocam biz sizin günah keçiniz değiliz!\\nValla ...</td>\n",
              "      <td>ü      ç       ğ    !\\n      ...</td>\n",
              "      <td>0.0</td>\n",
              "      <td>0.0</td>\n",
              "      <td>neutral</td>\n",
              "      <td>0.0</td>\n",
              "      <td>1.0</td>\n",
              "      <td>0.0</td>\n",
              "      <td>0.0</td>\n",
              "    </tr>\n",
              "    <tr>\n",
              "      <th>6</th>\n",
              "      <td>RT @fw_slick: $1,000 in #Bitcoin to one person...</td>\n",
              "      <td>$ ,       #                                  ...</td>\n",
              "      <td>0.0</td>\n",
              "      <td>0.0</td>\n",
              "      <td>neutral</td>\n",
              "      <td>0.0</td>\n",
              "      <td>0.0</td>\n",
              "      <td>0.0</td>\n",
              "      <td>0.0</td>\n",
              "    </tr>\n",
              "    <tr>\n",
              "      <th>7</th>\n",
              "      <td>@IOHK_Charles  join us @ThePeoples_Coin to hel...</td>\n",
              "      <td>_                  _                         ...</td>\n",
              "      <td>0.0</td>\n",
              "      <td>0.0</td>\n",
              "      <td>neutral</td>\n",
              "      <td>0.0</td>\n",
              "      <td>1.0</td>\n",
              "      <td>0.0</td>\n",
              "      <td>0.0</td>\n",
              "    </tr>\n",
              "    <tr>\n",
              "      <th>8</th>\n",
              "      <td>RT @Alyattes_ALYA: Passive Income even in Pres...</td>\n",
              "      <td>! \\n\\n         ...</td>\n",
              "      <td>0.0</td>\n",
              "      <td>0.0</td>\n",
              "      <td>neutral</td>\n",
              "      <td>0.0</td>\n",
              "      <td>0.0</td>\n",
              "      <td>0.0</td>\n",
              "      <td>0.0</td>\n",
              "    </tr>\n",
              "    <tr>\n",
              "      <th>9</th>\n",
              "      <td>@HazardPay5 @Bitcoin1Actual @LynAldenContact F...</td>\n",
              "      <td>,               ...</td>\n",
              "      <td>0.0</td>\n",
              "      <td>0.0</td>\n",
              "      <td>neutral</td>\n",
              "      <td>0.0</td>\n",
              "      <td>1.0</td>\n",
              "      <td>0.0</td>\n",
              "      <td>0.0</td>\n",
              "    </tr>\n",
              "  </tbody>\n",
              "</table>\n",
              "</div>"
            ],
            "text/plain": [
              "                                                   0  ... compound\n",
              "0  RT @APompliano: BREAKING: $2.2 trillion asset ...  ...      0.0\n",
              "1  RT @cryptoZeo: @McKinsey Kasım ayı itibariyle ...  ...      0.0\n",
              "2  RT @Bitcoin: Trying to figure out how well you...  ...      0.0\n",
              "3  @PeterSchiff your gold is provenly rigged pete...  ...      0.0\n",
              "4  RT @SorunsalElliTon: #Bitcoin Yeni ATH şerefin...  ...      0.0\n",
              "5  Hocam biz sizin günah keçiniz değiliz!\\nValla ...  ...      0.0\n",
              "6  RT @fw_slick: $1,000 in #Bitcoin to one person...  ...      0.0\n",
              "7  @IOHK_Charles  join us @ThePeoples_Coin to hel...  ...      0.0\n",
              "8  RT @Alyattes_ALYA: Passive Income even in Pres...  ...      0.0\n",
              "9  @HazardPay5 @Bitcoin1Actual @LynAldenContact F...  ...      0.0\n",
              "\n",
              "[10 rows x 9 columns]"
            ]
          },
          "metadata": {},
          "execution_count": 10
        }
      ]
    },
    {
      "cell_type": "code",
      "metadata": {
        "id": "z5fAs50VHK7q"
      },
      "source": [
        "#Creating new data frames for all sentiments (positive, negative and neutral)\n",
        "btc_tw_list_negative = btc_tw_list[btc_tw_list[\"sentiment\"]==\"negative\"]\n",
        "btc_tw_list_positive = btc_tw_list[btc_tw_list[\"sentiment\"]==\"positive\"]\n",
        "btc_tw_list_neutral = btc_tw_list[btc_tw_list[\"sentiment\"]==\"neutral\"]"
      ],
      "execution_count": 11,
      "outputs": []
    },
    {
      "cell_type": "code",
      "metadata": {
        "id": "-yiyIabaHK-t",
        "colab": {
          "base_uri": "https://localhost:8080/",
          "height": 142
        },
        "outputId": "28959737-e66a-4285-8153-cf8b2f56c693"
      },
      "source": [
        "def count_values_in_column(data,feature):\n",
        "  total=data.loc[:,feature].value_counts(dropna=False)\n",
        "  percentage=round(data.loc[:,feature].value_counts(dropna=False,normalize=True)*100,2)\n",
        "  return pd.concat([total,percentage],axis=1,keys=['Total','Percentage'])\n",
        "#Count_values for sentiment\n",
        "count_values_in_column(btc_tw_list,\"sentiment\")"
      ],
      "execution_count": 12,
      "outputs": [
        {
          "output_type": "execute_result",
          "data": {
            "text/html": [
              "<div>\n",
              "<style scoped>\n",
              "    .dataframe tbody tr th:only-of-type {\n",
              "        vertical-align: middle;\n",
              "    }\n",
              "\n",
              "    .dataframe tbody tr th {\n",
              "        vertical-align: top;\n",
              "    }\n",
              "\n",
              "    .dataframe thead th {\n",
              "        text-align: right;\n",
              "    }\n",
              "</style>\n",
              "<table border=\"1\" class=\"dataframe\">\n",
              "  <thead>\n",
              "    <tr style=\"text-align: right;\">\n",
              "      <th></th>\n",
              "      <th>Total</th>\n",
              "      <th>Percentage</th>\n",
              "    </tr>\n",
              "  </thead>\n",
              "  <tbody>\n",
              "    <tr>\n",
              "      <th>neutral</th>\n",
              "      <td>561</td>\n",
              "      <td>99.47</td>\n",
              "    </tr>\n",
              "    <tr>\n",
              "      <th>positive</th>\n",
              "      <td>2</td>\n",
              "      <td>0.35</td>\n",
              "    </tr>\n",
              "    <tr>\n",
              "      <th>negative</th>\n",
              "      <td>1</td>\n",
              "      <td>0.18</td>\n",
              "    </tr>\n",
              "  </tbody>\n",
              "</table>\n",
              "</div>"
            ],
            "text/plain": [
              "          Total  Percentage\n",
              "neutral     561       99.47\n",
              "positive      2        0.35\n",
              "negative      1        0.18"
            ]
          },
          "metadata": {},
          "execution_count": 12
        }
      ]
    },
    {
      "cell_type": "code",
      "metadata": {
        "id": "Y3mpOk9IHLBj",
        "colab": {
          "base_uri": "https://localhost:8080/",
          "height": 406
        },
        "outputId": "179df107-82aa-4756-a7d8-61ec621d8001"
      },
      "source": [
        "# create data for Pie Chart\n",
        "pc = count_values_in_column(btc_tw_list,\"sentiment\")\n",
        "names = pc.index\n",
        "size = pc[\"Percentage\"]\n",
        " \n",
        "# Create a circle for the center of the plot\n",
        "my_circle=plt.Circle( (0,0), 0.7, color='white')\n",
        "plt.pie(size, labels=names, colors=['green','blue','red'])\n",
        "p=plt.gcf()\n",
        "p.gca().add_artist(my_circle)\n",
        "plt.show()"
      ],
      "execution_count": 13,
      "outputs": [
        {
          "output_type": "display_data",
          "data": {
            "image/png": "[encoded data removed]",
            "text/plain": [
              "<Figure size 640x480 with 1 Axes>"
            ]
          },
          "metadata": {}
        }
      ]
    },
    {
      "cell_type": "code",
      "metadata": {
        "id": "GvYWQ786HQU8"
      },
      "source": [
        "#Sentiment Analysis For Ethereum\n",
        "def percentage(part,whole):\n",
        " return 100 * float(part)/float(whole)\n",
        "keyword = 'Ethereum'\n",
        "noOfTweet = 1000\n",
        "tweets = tweepy.Cursor(api.search, q=keyword).items(noOfTweet)\n",
        "positive = 0\n",
        "negative = 0\n",
        "neutral = 0\n",
        "polarity = 0\n",
        "tweet_list = []\n",
        "neutral_list = []\n",
        "negative_list = []\n",
        "positive_list = []\n",
        "for tweet in tweets:\n",
        "  #print(tweet.text)\n",
        "  tweet_list.append(tweet.text)\n",
        "  analysis = TextBlob(tweet.text)\n",
        "  score = SentimentIntensityAnalyzer().polarity_scores(tweet.text)\n",
        "  neg = score['neg']\n",
        "  neu = score['neu']\n",
        "  pos = score['pos']\n",
        "  comp = score['compound']\n",
        "  polarity += analysis.sentiment.polarity\n",
        "  \n",
        "  if neg > pos:\n",
        "    negative_list.append(tweet.text)\n",
        "    negative += 1\n",
        "  elif pos > neg:\n",
        "    positive_list.append(tweet.text)\n",
        "    positive += 1\n",
        "  elif pos == neg:\n",
        "    neutral_list.append(tweet.text)\n",
        "    neutral += 1\n",
        "positive = percentage(positive, noOfTweet)\n",
        "negative = percentage(negative, noOfTweet)\n",
        "neutral = percentage(neutral, noOfTweet)\n",
        "polarity = percentage(polarity, noOfTweet)\n",
        "positive = format(positive, '.1f')\n",
        "negative = format(negative, '.1f')\n",
        "neutral = format(neutral, '.1f')"
      ],
      "execution_count": 31,
      "outputs": []
    },
    {
      "cell_type": "code",
      "metadata": {
        "id": "eyNml6zTHQXp",
        "colab": {
          "base_uri": "https://localhost:8080/"
        },
        "outputId": "a0b0d95d-d90d-4cb5-ff73-ada92d2242ab"
      },
      "source": [
        "#Number of Tweets (Total, Positive, Negative, Neutral)\n",
        "eth_tweet_list = pd.DataFrame(tweet_list)\n",
        "eth_neutral_list = pd.DataFrame(neutral_list)\n",
        "eth_negative_list = pd.DataFrame(negative_list)\n",
        "eth_positive_list = pd.DataFrame(positive_list)\n",
        "print(\"total number: \",len(eth_tweet_list))\n",
        "print(\"positive number: \",len(eth_positive_list))\n",
        "print(\"negative number: \", len(eth_negative_list))\n",
        "print(\"neutral number: \",len(neutral_list))"
      ],
      "execution_count": 32,
      "outputs": [
        {
          "output_type": "stream",
          "name": "stdout",
          "text": [
            "total number:  1000\n",
            "positive number:  402\n",
            "negative number:  51\n",
            "neutral number:  547\n"
          ]
        }
      ]
    },
    {
      "cell_type": "code",
      "metadata": {
        "id": "IgxV_ggjHQaQ",
        "colab": {
          "base_uri": "https://localhost:8080/",
          "height": 428
        },
        "outputId": "aa6155e5-8f7b-4587-dd71-e5b9689a0440"
      },
      "source": [
        "#Creating PieCart\n",
        "labels = ['Positive ['+str(positive)+'%]' , 'Neutral ['+str(neutral)+'%]','Negative ['+str(negative)+'%]']\n",
        "sizes = [positive, neutral, negative]\n",
        "colors = ['yellowgreen', 'blue','red']\n",
        "patches, texts = plt.pie(sizes,colors=colors, startangle=90)\n",
        "plt.style.use('default')\n",
        "plt.legend(labels)\n",
        "plt.title(\"Sentiment Analysis Result for keyword= \"+keyword+\"\" )\n",
        "plt.axis('equal')\n",
        "plt.show()"
      ],
      "execution_count": 33,
      "outputs": [
        {
          "output_type": "display_data",
          "data": {
            "image/png": "[encoded data removed]",
            "text/plain": [
              "<Figure size 640x480 with 1 Axes>"
            ]
          },
          "metadata": {}
        }
      ]
    },
    {
      "cell_type": "code",
      "metadata": {
        "id": "6up19VJsHUil",
        "colab": {
          "base_uri": "https://localhost:8080/",
          "height": 419
        },
        "outputId": "67267d86-3658-404e-a6b9-d0cc4647bdf3"
      },
      "source": [
        "eth_tweet_list"
      ],
      "execution_count": 34,
      "outputs": [
        {
          "output_type": "execute_result",
          "data": {
            "text/html": [
              "<div>\n",
              "<style scoped>\n",
              "    .dataframe tbody tr th:only-of-type {\n",
              "        vertical-align: middle;\n",
              "    }\n",
              "\n",
              "    .dataframe tbody tr th {\n",
              "        vertical-align: top;\n",
              "    }\n",
              "\n",
              "    .dataframe thead th {\n",
              "        text-align: right;\n",
              "    }\n",
              "</style>\n",
              "<table border=\"1\" class=\"dataframe\">\n",
              "  <thead>\n",
              "    <tr style=\"text-align: right;\">\n",
              "      <th></th>\n",
              "      <th>0</th>\n",
              "    </tr>\n",
              "  </thead>\n",
              "  <tbody>\n",
              "    <tr>\n",
              "      <th>0</th>\n",
              "      <td>RT @kriptoalice: #Bitcoin Yeni ATH Şerefine \\n...</td>\n",
              "    </tr>\n",
              "    <tr>\n",
              "      <th>1</th>\n",
              "      <td>RT @90BE90: 🎁 #NFTGiveaway 🎁\\n\\n• 1 Moustache ...</td>\n",
              "    </tr>\n",
              "    <tr>\n",
              "      <th>2</th>\n",
              "      <td>RT @SorunsalElliTon: #Bitcoin Yeni ATH şerefin...</td>\n",
              "    </tr>\n",
              "    <tr>\n",
              "      <th>3</th>\n",
              "      <td>RT @Cointelegraph: Crypto market cap, Bitcoin,...</td>\n",
              "    </tr>\n",
              "    <tr>\n",
              "      <th>4</th>\n",
              "      <td>RT @IpDaMan: $AVAK Major bullFlag‼️🚨 Load up b...</td>\n",
              "    </tr>\n",
              "    <tr>\n",
              "      <th>...</th>\n",
              "      <td>...</td>\n",
              "    </tr>\n",
              "    <tr>\n",
              "      <th>995</th>\n",
              "      <td>RT @JamesDeanNFT: 🎃#NFTgiveaway🎃\\n\\nWin a NFT ...</td>\n",
              "    </tr>\n",
              "    <tr>\n",
              "      <th>996</th>\n",
              "      <td>RT @JamesDeanNFT: 🎃#NFTgiveaway🎃\\n\\n3x NFT giv...</td>\n",
              "    </tr>\n",
              "    <tr>\n",
              "      <th>997</th>\n",
              "      <td>RT @Alyattes_ALYA: Passive Income even in Pres...</td>\n",
              "    </tr>\n",
              "    <tr>\n",
              "      <th>998</th>\n",
              "      <td>RT @DigitalArmsNFT: Whitelisting is open now a...</td>\n",
              "    </tr>\n",
              "    <tr>\n",
              "      <th>999</th>\n",
              "      <td>RT @HiveBlockchain: Thank you, @TheMotleyFoolC...</td>\n",
              "    </tr>\n",
              "  </tbody>\n",
              "</table>\n",
              "<p>1000 rows × 1 columns</p>\n",
              "</div>"
            ],
            "text/plain": [
              "                                                     0\n",
              "0    RT @kriptoalice: #Bitcoin Yeni ATH Şerefine \\n...\n",
              "1    RT @90BE90: 🎁 #NFTGiveaway 🎁\\n\\n• 1 Moustache ...\n",
              "2    RT @SorunsalElliTon: #Bitcoin Yeni ATH şerefin...\n",
              "3    RT @Cointelegraph: Crypto market cap, Bitcoin,...\n",
              "4    RT @IpDaMan: $AVAK Major bullFlag‼️🚨 Load up b...\n",
              "..                                                 ...\n",
              "995  RT @JamesDeanNFT: 🎃#NFTgiveaway🎃\\n\\nWin a NFT ...\n",
              "996  RT @JamesDeanNFT: 🎃#NFTgiveaway🎃\\n\\n3x NFT giv...\n",
              "997  RT @Alyattes_ALYA: Passive Income even in Pres...\n",
              "998  RT @DigitalArmsNFT: Whitelisting is open now a...\n",
              "999  RT @HiveBlockchain: Thank you, @TheMotleyFoolC...\n",
              "\n",
              "[1000 rows x 1 columns]"
            ]
          },
          "metadata": {},
          "execution_count": 34
        }
      ]
    },
    {
      "cell_type": "code",
      "metadata": {
        "id": "5fhLqPrJHUlr"
      },
      "source": [
        "#Sentiment Analysis For Litecoin\n",
        "def percentage(part,whole):\n",
        " return 100 * float(part)/float(whole)\n",
        "keyword = 'Litecoin'\n",
        "noOfTweet = 1000\n",
        "tweets = tweepy.Cursor(api.search, q=keyword).items(noOfTweet)\n",
        "positive = 0\n",
        "negative = 0\n",
        "neutral = 0\n",
        "polarity = 0\n",
        "tweet_list = []\n",
        "neutral_list = []\n",
        "negative_list = []\n",
        "positive_list = []\n",
        "for tweet in tweets:\n",
        "  #print(tweet.text)\n",
        "  tweet_list.append(tweet.text)\n",
        "  analysis = TextBlob(tweet.text)\n",
        "  score = SentimentIntensityAnalyzer().polarity_scores(tweet.text)\n",
        "  neg = score['neg']\n",
        "  neu = score['neu']\n",
        "  pos = score['pos']\n",
        "  comp = score['compound']\n",
        "  polarity += analysis.sentiment.polarity\n",
        "  \n",
        "  if neg > pos:\n",
        "    negative_list.append(tweet.text)\n",
        "    negative += 1\n",
        "  elif pos > neg:\n",
        "    positive_list.append(tweet.text)\n",
        "    positive += 1\n",
        "  elif pos == neg:\n",
        "    neutral_list.append(tweet.text)\n",
        "    neutral += 1\n",
        "positive = percentage(positive, noOfTweet)\n",
        "negative = percentage(negative, noOfTweet)\n",
        "neutral = percentage(neutral, noOfTweet)\n",
        "polarity = percentage(polarity, noOfTweet)\n",
        "positive = format(positive, '.1f')\n",
        "negative = format(negative, '.1f')\n",
        "neutral = format(neutral, '.1f')"
      ],
      "execution_count": 35,
      "outputs": []
    },
    {
      "cell_type": "code",
      "metadata": {
        "id": "KKTvjNggHUqF",
        "colab": {
          "base_uri": "https://localhost:8080/"
        },
        "outputId": "8d099dc3-5314-4ac4-aae6-94a1de9c9aca"
      },
      "source": [
        "#Number of Tweets (Total, Positive, Negative, Neutral)\n",
        "ltc_tweet_list = pd.DataFrame(tweet_list)\n",
        "ltc_neutral_list = pd.DataFrame(neutral_list)\n",
        "ltc_negative_list = pd.DataFrame(negative_list)\n",
        "ltc_positive_list = pd.DataFrame(positive_list)\n",
        "print(\"total number: \",len(ltc_tweet_list))\n",
        "print(\"positive number: \",len(ltc_positive_list))\n",
        "print(\"negative number: \", len(ltc_negative_list))\n",
        "print(\"neutral number: \",len(neutral_list))"
      ],
      "execution_count": 36,
      "outputs": [
        {
          "output_type": "stream",
          "name": "stdout",
          "text": [
            "total number:  1000\n",
            "positive number:  232\n",
            "negative number:  48\n",
            "neutral number:  720\n"
          ]
        }
      ]
    },
    {
      "cell_type": "code",
      "metadata": {
        "id": "5jvgajJeHLEU",
        "colab": {
          "base_uri": "https://localhost:8080/",
          "height": 428
        },
        "outputId": "ae7ef318-02fe-416b-ec4f-2a38dca7e7d4"
      },
      "source": [
        "#Creating PieCart\n",
        "labels = ['Positive ['+str(positive)+'%]' , 'Neutral ['+str(neutral)+'%]','Negative ['+str(negative)+'%]']\n",
        "sizes = [positive, neutral, negative]\n",
        "colors = ['yellowgreen', 'blue','red']\n",
        "patches, texts = plt.pie(sizes,colors=colors, startangle=90)\n",
        "plt.style.use('default')\n",
        "plt.legend(labels)\n",
        "plt.title(\"Sentiment Analysis Result for keyword= \"+keyword+\"\" )\n",
        "plt.axis('equal')\n",
        "plt.show()"
      ],
      "execution_count": 37,
      "outputs": [
        {
          "output_type": "display_data",
          "data": {
            "image/png": "[encoded data removed]",
            "text/plain": [
              "<Figure size 640x480 with 1 Axes>"
            ]
          },
          "metadata": {}
        }
      ]
    },
    {
      "cell_type": "code",
      "metadata": {
        "id": "cXk7tLUoHaV3",
        "colab": {
          "base_uri": "https://localhost:8080/",
          "height": 419
        },
        "outputId": "e39d4152-8ca0-4430-8c18-3b0e9a8f68ec"
      },
      "source": [
        "ltc_tweet_list"
      ],
      "execution_count": 38,
      "outputs": [
        {
          "output_type": "execute_result",
          "data": {
            "text/html": [
              "<div>\n",
              "<style scoped>\n",
              "    .dataframe tbody tr th:only-of-type {\n",
              "        vertical-align: middle;\n",
              "    }\n",
              "\n",
              "    .dataframe tbody tr th {\n",
              "        vertical-align: top;\n",
              "    }\n",
              "\n",
              "    .dataframe thead th {\n",
              "        text-align: right;\n",
              "    }\n",
              "</style>\n",
              "<table border=\"1\" class=\"dataframe\">\n",
              "  <thead>\n",
              "    <tr style=\"text-align: right;\">\n",
              "      <th></th>\n",
              "      <th>0</th>\n",
              "    </tr>\n",
              "  </thead>\n",
              "  <tbody>\n",
              "    <tr>\n",
              "      <th>0</th>\n",
              "      <td>RT @dorsa___noble: Kazananlar asla pes etmeyec...</td>\n",
              "    </tr>\n",
              "    <tr>\n",
              "      <th>1</th>\n",
              "      <td>RT @CryptoEugene101: $QNT\\n\\n🚨CRITICALLY LOW C...</td>\n",
              "    </tr>\n",
              "    <tr>\n",
              "      <th>2</th>\n",
              "      <td>$LTC/USD - buy on:@bwword - sell on:@bithumbof...</td>\n",
              "    </tr>\n",
              "    <tr>\n",
              "      <th>3</th>\n",
              "      <td>Ahora en la plataforma de @sellatuparley puede...</td>\n",
              "    </tr>\n",
              "    <tr>\n",
              "      <th>4</th>\n",
              "      <td>@MillaLiraj @litecoin @flashtrader1 @LTC_Conce...</td>\n",
              "    </tr>\n",
              "    <tr>\n",
              "      <th>...</th>\n",
              "      <td>...</td>\n",
              "    </tr>\n",
              "    <tr>\n",
              "      <th>995</th>\n",
              "      <td>RT @CryptoBucksApp: BREAKING NEWS: CryptoBucks...</td>\n",
              "    </tr>\n",
              "    <tr>\n",
              "      <th>996</th>\n",
              "      <td>RT @Rain_Turkiye: Dilediğiniz yerden, kolay ve...</td>\n",
              "    </tr>\n",
              "    <tr>\n",
              "      <th>997</th>\n",
              "      <td>RT @CryptoZoroo: We believe in ourselfs and in...</td>\n",
              "    </tr>\n",
              "    <tr>\n",
              "      <th>998</th>\n",
              "      <td>@qamzeedmr @VenusProtocol #AinuToken @TokenAin...</td>\n",
              "    </tr>\n",
              "    <tr>\n",
              "      <th>999</th>\n",
              "      <td>@try2bfunded #AinuToken @TokenAinu 100x soon 🥳...</td>\n",
              "    </tr>\n",
              "  </tbody>\n",
              "</table>\n",
              "<p>1000 rows × 1 columns</p>\n",
              "</div>"
            ],
            "text/plain": [
              "                                                     0\n",
              "0    RT @dorsa___noble: Kazananlar asla pes etmeyec...\n",
              "1    RT @CryptoEugene101: $QNT\\n\\n🚨CRITICALLY LOW C...\n",
              "2    $LTC/USD - buy on:@bwword - sell on:@bithumbof...\n",
              "3    Ahora en la plataforma de @sellatuparley puede...\n",
              "4    @MillaLiraj @litecoin @flashtrader1 @LTC_Conce...\n",
              "..                                                 ...\n",
              "995  RT @CryptoBucksApp: BREAKING NEWS: CryptoBucks...\n",
              "996  RT @Rain_Turkiye: Dilediğiniz yerden, kolay ve...\n",
              "997  RT @CryptoZoroo: We believe in ourselfs and in...\n",
              "998  @qamzeedmr @VenusProtocol #AinuToken @TokenAin...\n",
              "999  @try2bfunded #AinuToken @TokenAinu 100x soon 🥳...\n",
              "\n",
              "[1000 rows x 1 columns]"
            ]
          },
          "metadata": {},
          "execution_count": 38
        }
      ]
    },
    {
      "cell_type": "code",
      "metadata": {
        "id": "3Hk3xn4F4sK_"
      },
      "source": [
        "#Sentiment Analysis For Dogecoin\n",
        "def percentage(part,whole):\n",
        " return 100 * float(part)/float(whole)\n",
        "keyword = 'Dogecoin'\n",
        "noOfTweet = 1000\n",
        "tweets = tweepy.Cursor(api.search, q=keyword).items(noOfTweet)\n",
        "positive = 0\n",
        "negative = 0\n",
        "neutral = 0\n",
        "polarity = 0\n",
        "tweet_list = []\n",
        "neutral_list = []\n",
        "negative_list = []\n",
        "positive_list = []\n",
        "for tweet in tweets:\n",
        "  #print(tweet.text)\n",
        "  tweet_list.append(tweet.text)\n",
        "  analysis = TextBlob(tweet.text)\n",
        "  score = SentimentIntensityAnalyzer().polarity_scores(tweet.text)\n",
        "  neg = score['neg']\n",
        "  neu = score['neu']\n",
        "  pos = score['pos']\n",
        "  comp = score['compound']\n",
        "  polarity += analysis.sentiment.polarity\n",
        "  \n",
        "  if neg > pos:\n",
        "    negative_list.append(tweet.text)\n",
        "    negative += 1\n",
        "  elif pos > neg:\n",
        "    positive_list.append(tweet.text)\n",
        "    positive += 1\n",
        "  elif pos == neg:\n",
        "    neutral_list.append(tweet.text)\n",
        "    neutral += 1\n",
        "positive = percentage(positive, noOfTweet)\n",
        "negative = percentage(negative, noOfTweet)\n",
        "neutral = percentage(neutral, noOfTweet)\n",
        "polarity = percentage(polarity, noOfTweet)\n",
        "positive = format(positive, '.1f')\n",
        "negative = format(negative, '.1f')\n",
        "neutral = format(neutral, '.1f')"
      ],
      "execution_count": 39,
      "outputs": []
    },
    {
      "cell_type": "code",
      "metadata": {
        "id": "meDSN69ZHabl",
        "colab": {
          "base_uri": "https://localhost:8080/"
        },
        "outputId": "00b1b991-35d0-4f39-e801-85d6654112fc"
      },
      "source": [
        "#Number of Tweets (Total, Positive, Negative, Neutral)\n",
        "doge_tweet_list = pd.DataFrame(tweet_list)\n",
        "doge_neutral_list = pd.DataFrame(neutral_list)\n",
        "doge_negative_list = pd.DataFrame(negative_list)\n",
        "doge_positive_list = pd.DataFrame(positive_list)\n",
        "print(\"total number: \",len(doge_tweet_list))\n",
        "print(\"positive number: \",len(doge_positive_list))\n",
        "print(\"negative number: \", len(doge_negative_list))\n",
        "print(\"neutral number: \",len(neutral_list))"
      ],
      "execution_count": 40,
      "outputs": [
        {
          "output_type": "stream",
          "name": "stdout",
          "text": [
            "total number:  1000\n",
            "positive number:  233\n",
            "negative number:  63\n",
            "neutral number:  704\n"
          ]
        }
      ]
    },
    {
      "cell_type": "code",
      "metadata": {
        "id": "BlxnWbnUHaek",
        "colab": {
          "base_uri": "https://localhost:8080/",
          "height": 428
        },
        "outputId": "8f3ef4ca-2d03-48e4-b1d8-6af436a152d1"
      },
      "source": [
        "#Creating PieCart\n",
        "labels = ['Positive ['+str(positive)+'%]' , 'Neutral ['+str(neutral)+'%]','Negative ['+str(negative)+'%]']\n",
        "sizes = [positive, neutral, negative]\n",
        "colors = ['yellowgreen', 'blue','red']\n",
        "patches, texts = plt.pie(sizes,colors=colors, startangle=90)\n",
        "plt.style.use('default')\n",
        "plt.legend(labels)\n",
        "plt.title(\"Sentiment Analysis Result for keyword= \"+keyword+\"\" )\n",
        "plt.axis('equal')\n",
        "plt.show()"
      ],
      "execution_count": 41,
      "outputs": [
        {
          "output_type": "display_data",
          "data": {
            "image/png": "[encoded data removed]",
            "text/plain": [
              "<Figure size 640x480 with 1 Axes>"
            ]
          },
          "metadata": {}
        }
      ]
    },
    {
      "cell_type": "code",
      "metadata": {
        "id": "G-OzUjijHahg",
        "colab": {
          "base_uri": "https://localhost:8080/",
          "height": 419
        },
        "outputId": "fe028f96-74e1-48d9-84ad-de59dc77d457"
      },
      "source": [
        "doge_tweet_list"
      ],
      "execution_count": 42,
      "outputs": [
        {
          "output_type": "execute_result",
          "data": {
            "text/html": [
              "<div>\n",
              "<style scoped>\n",
              "    .dataframe tbody tr th:only-of-type {\n",
              "        vertical-align: middle;\n",
              "    }\n",
              "\n",
              "    .dataframe tbody tr th {\n",
              "        vertical-align: top;\n",
              "    }\n",
              "\n",
              "    .dataframe thead th {\n",
              "        text-align: right;\n",
              "    }\n",
              "</style>\n",
              "<table border=\"1\" class=\"dataframe\">\n",
              "  <thead>\n",
              "    <tr style=\"text-align: right;\">\n",
              "      <th></th>\n",
              "      <th>0</th>\n",
              "    </tr>\n",
              "  </thead>\n",
              "  <tbody>\n",
              "    <tr>\n",
              "      <th>0</th>\n",
              "      <td>$DOGE to 1$ , $DOGE is worth:$0.25 \\n24h volum...</td>\n",
              "    </tr>\n",
              "    <tr>\n",
              "      <th>1</th>\n",
              "      <td>RT @CoinDesk: \"I don't bet against funny meme ...</td>\n",
              "    </tr>\n",
              "    <tr>\n",
              "      <th>2</th>\n",
              "      <td>RT @MikeDavisYT: #DOGECOIN 361% breakout move ...</td>\n",
              "    </tr>\n",
              "    <tr>\n",
              "      <th>3</th>\n",
              "      <td>RT @MinisterOfDoge: #Bitcoin new all time high...</td>\n",
              "    </tr>\n",
              "    <tr>\n",
              "      <th>4</th>\n",
              "      <td>#Bitcoin  boom……🚀🚀 🌕 100K\\n👀👀 when #Elonmusk #...</td>\n",
              "    </tr>\n",
              "    <tr>\n",
              "      <th>...</th>\n",
              "      <td>...</td>\n",
              "    </tr>\n",
              "    <tr>\n",
              "      <th>995</th>\n",
              "      <td>@RnoHach @DogeMau420 @DogeCoinMilitia @CaliShi...</td>\n",
              "    </tr>\n",
              "    <tr>\n",
              "      <th>996</th>\n",
              "      <td>RT @ProTheDoge: Ima just leave this here. #dog...</td>\n",
              "    </tr>\n",
              "    <tr>\n",
              "      <th>997</th>\n",
              "      <td>RT @golden991: It is funny. 😆 Years from now -...</td>\n",
              "    </tr>\n",
              "    <tr>\n",
              "      <th>998</th>\n",
              "      <td>Dogecoin on Coinbase.\\nCoinbase will offer cus...</td>\n",
              "    </tr>\n",
              "    <tr>\n",
              "      <th>999</th>\n",
              "      <td>RT @NirosFinance: 5 free #nfts are up for grab...</td>\n",
              "    </tr>\n",
              "  </tbody>\n",
              "</table>\n",
              "<p>1000 rows × 1 columns</p>\n",
              "</div>"
            ],
            "text/plain": [
              "                                                     0\n",
              "0    $DOGE to 1$ , $DOGE is worth:$0.25 \\n24h volum...\n",
              "1    RT @CoinDesk: \"I don't bet against funny meme ...\n",
              "2    RT @MikeDavisYT: #DOGECOIN 361% breakout move ...\n",
              "3    RT @MinisterOfDoge: #Bitcoin new all time high...\n",
              "4    #Bitcoin  boom……🚀🚀 🌕 100K\\n👀👀 when #Elonmusk #...\n",
              "..                                                 ...\n",
              "995  @RnoHach @DogeMau420 @DogeCoinMilitia @CaliShi...\n",
              "996  RT @ProTheDoge: Ima just leave this here. #dog...\n",
              "997  RT @golden991: It is funny. 😆 Years from now -...\n",
              "998  Dogecoin on Coinbase.\\nCoinbase will offer cus...\n",
              "999  RT @NirosFinance: 5 free #nfts are up for grab...\n",
              "\n",
              "[1000 rows x 1 columns]"
            ]
          },
          "metadata": {},
          "execution_count": 42
        }
      ]
    },
    {
      "cell_type": "code",
      "metadata": {
        "id": "rGkDl187HanJ"
      },
      "source": [
        ""
      ],
      "execution_count": null,
      "outputs": []
    }
  ]
}
