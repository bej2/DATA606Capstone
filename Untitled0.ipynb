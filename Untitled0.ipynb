{
  "nbformat": 4,
  "nbformat_minor": 0,
  "metadata": {
    "colab": {
      "name": "Untitled0.ipynb",
      "provenance": [],
      "collapsed_sections": []
    },
    "kernelspec": {
      "name": "python3",
      "display_name": "Python 3"
    },
    "language_info": {
      "name": "python"
    }
  },
  "cells": [
    {
      "cell_type": "markdown",
      "metadata": {
        "id": "1tPj39JWGrGZ"
      },
      "source": [
        " Reference: https://towardsdatascience.com/step-by-step-twitter-sentiment-analysis-in-python-d6f650ade58d"
      ]
    },
    {
      "cell_type": "code",
      "metadata": {
        "id": "6xVqKRD7wjOe"
      },
      "source": [
        ""
      ],
      "execution_count": null,
      "outputs": []
    },
    {
      "cell_type": "code",
      "metadata": {
        "id": "m-uuB_5yFyYz",
        "colab": {
          "base_uri": "https://localhost:8080/"
        },
        "outputId": "44789cce-8595-4b7e-f485-c48129366348"
      },
      "source": [
        "# Import Libraries\n",
        "from textblob import TextBlob\n",
        "import sys\n",
        "import tweepy\n",
        "import matplotlib.pyplot as plt\n",
        "import pandas as pd\n",
        "import numpy as np\n",
        "import os\n",
        "import nltk\n",
        "import re\n",
        "import string\n",
        "from wordcloud import WordCloud, STOPWORDS\n",
        "from PIL import Image\n",
        "from nltk.sentiment.vader import SentimentIntensityAnalyzer\n",
        "from nltk.stem import SnowballStemmer\n",
        "from nltk.sentiment.vader import SentimentIntensityAnalyzer\n",
        "from sklearn.feature_extraction.text import CountVectorizer\n",
        "import nltk\n",
        "nltk.download('vader_lexicon')\n",
        "nltk.download('stopwords')"
      ],
      "execution_count": null,
      "outputs": [
        {
          "output_type": "stream",
          "name": "stdout",
          "text": [
            "[nltk_data] Downloading package vader_lexicon to /root/nltk_data...\n",
            "[nltk_data]   Package vader_lexicon is already up-to-date!\n",
            "[nltk_data] Downloading package stopwords to /root/nltk_data...\n",
            "[nltk_data]   Package stopwords is already up-to-date!\n"
          ]
        },
        {
          "output_type": "stream",
          "name": "stderr",
          "text": [
            "/usr/local/lib/python3.7/dist-packages/nltk/twitter/__init__.py:20: UserWarning: The twython library has not been installed. Some functionality from the twitter package will not be available.\n",
            "  warnings.warn(\"The twython library has not been installed. \"\n"
          ]
        },
        {
          "output_type": "execute_result",
          "data": {
            "text/plain": [
              "True"
            ]
          },
          "metadata": {},
          "execution_count": 1
        }
      ]
    },
    {
      "cell_type": "code",
      "metadata": {
        "id": "W0j--ZftFyb4"
      },
      "source": [
        "# Authentication\n",
        "consumerKey = 'VapnFlTNQ8YnfkJacHJ3pA9Mq'\n",
        "consumerSecret = 'csAcKfbYfO6FCwPCdvMFe5QFmNV7Z5RWsQndEcMEhfhz2UZBKd'\n",
        "accessToken = '1447703825251553280-p8XMMIVHoiA0dEWSBUfsv9i9FWihi8'\n",
        "accessTokenSecret = 'jlgbfYKfqtb1q6beW4TqmJ7naqvtBkuROk9cfPzoOJ1We'\n",
        "auth = tweepy.OAuthHandler(consumerKey, consumerSecret)\n",
        "auth.set_access_token(accessToken, accessTokenSecret)\n",
        "api = tweepy.API(auth)"
      ],
      "execution_count": null,
      "outputs": []
    },
    {
      "cell_type": "code",
      "metadata": {
        "id": "sNRLfjlnFye2"
      },
      "source": [
        "#Sentiment Analysis\n",
        "def percentage(part,whole):\n",
        " return 100 * float(part)/float(whole)\n",
        "keyword = 'Bitcoin'\n",
        "noOfTweet = 100\n",
        "tweets = tweepy.Cursor(api.search, q=keyword).items(noOfTweet)\n",
        "positive = 0\n",
        "negative = 0\n",
        "neutral = 0\n",
        "polarity = 0\n",
        "tweet_list = []\n",
        "neutral_list = []\n",
        "negative_list = []\n",
        "positive_list = []\n",
        "for tweet in tweets:\n",
        "  #print(tweet.text)\n",
        "  tweet_list.append(tweet.text)\n",
        "  analysis = TextBlob(tweet.text)\n",
        "  score = SentimentIntensityAnalyzer().polarity_scores(tweet.text)\n",
        "  neg = score['neg']\n",
        "  neu = score['neu']\n",
        "  pos = score['pos']\n",
        "  comp = score['compound']\n",
        "  polarity += analysis.sentiment.polarity\n",
        "  \n",
        "  if neg > pos:\n",
        "    negative_list.append(tweet.text)\n",
        "    negative += 1\n",
        "  elif pos > neg:\n",
        "    positive_list.append(tweet.text)\n",
        "    positive += 1\n",
        "  elif pos == neg:\n",
        "    neutral_list.append(tweet.text)\n",
        "    neutral += 1\n",
        "positive = percentage(positive, noOfTweet)\n",
        "negative = percentage(negative, noOfTweet)\n",
        "neutral = percentage(neutral, noOfTweet)\n",
        "polarity = percentage(polarity, noOfTweet)\n",
        "positive = format(positive, '.1f')\n",
        "negative = format(negative, '.1f')\n",
        "neutral = format(neutral, '.1f')"
      ],
      "execution_count": null,
      "outputs": []
    },
    {
      "cell_type": "code",
      "metadata": {
        "id": "ReepDk5AFyhk",
        "colab": {
          "base_uri": "https://localhost:8080/"
        },
        "outputId": "d4c4c656-cf38-47ab-c740-f36736e71c1b"
      },
      "source": [
        "#Number of Tweets (Total, Positive, Negative, Neutral)\n",
        "tweet_list = pd.DataFrame(tweet_list)\n",
        "neutral_list = pd.DataFrame(neutral_list)\n",
        "negative_list = pd.DataFrame(negative_list)\n",
        "positive_list = pd.DataFrame(positive_list)\n",
        "print(\"total number: \",len(tweet_list))\n",
        "print(\"positive number: \",len(positive_list))\n",
        "print(\"negative number: \", len(negative_list))\n",
        "print(\"neutral number: \",len(neutral_list))"
      ],
      "execution_count": null,
      "outputs": [
        {
          "output_type": "stream",
          "name": "stdout",
          "text": [
            "total number:  100\n",
            "positive number:  34\n",
            "negative number:  11\n",
            "neutral number:  55\n"
          ]
        }
      ]
    },
    {
      "cell_type": "code",
      "metadata": {
        "id": "izP7lQxbHDTb",
        "colab": {
          "base_uri": "https://localhost:8080/",
          "height": 264
        },
        "outputId": "98283af3-7d80-4fab-bed2-b04c5d33b57b"
      },
      "source": [
        "#Creating PieCart\n",
        "labels = ['Positive ['+str(positive)+'%]' , 'Neutral ['+str(neutral)+'%]','Negative ['+str(negative)+'%]']\n",
        "sizes = [positive, neutral, negative]\n",
        "colors = ['yellowgreen', 'blue','red']\n",
        "patches, texts = plt.pie(sizes,colors=colors, startangle=90)\n",
        "plt.style.use('default')\n",
        "plt.legend(labels)\n",
        "plt.title(\"Sentiment Analysis Result for keyword= \"+keyword+\"\" )\n",
        "plt.axis('equal')\n",
        "plt.show()"
      ],
      "execution_count": null,
      "outputs": [
        {
          "output_type": "display_data",
          "data": {
            "image/png": "[encoded data removed]",
            "text/plain": [
              "<Figure size 432x288 with 1 Axes>"
            ]
          },
          "metadata": {}
        }
      ]
    },
    {
      "cell_type": "code",
      "metadata": {
        "id": "yYZPwzZxHG8x",
        "colab": {
          "base_uri": "https://localhost:8080/",
          "height": 419
        },
        "outputId": "75fb5fbe-a906-4235-98f9-2756cab9aeb5"
      },
      "source": [
        "tweet_list"
      ],
      "execution_count": null,
      "outputs": [
        {
          "output_type": "execute_result",
          "data": {
            "text/html": [
              "<div>\n",
              "<style scoped>\n",
              "    .dataframe tbody tr th:only-of-type {\n",
              "        vertical-align: middle;\n",
              "    }\n",
              "\n",
              "    .dataframe tbody tr th {\n",
              "        vertical-align: top;\n",
              "    }\n",
              "\n",
              "    .dataframe thead th {\n",
              "        text-align: right;\n",
              "    }\n",
              "</style>\n",
              "<table border=\"1\" class=\"dataframe\">\n",
              "  <thead>\n",
              "    <tr style=\"text-align: right;\">\n",
              "      <th></th>\n",
              "      <th>0</th>\n",
              "    </tr>\n",
              "  </thead>\n",
              "  <tbody>\n",
              "    <tr>\n",
              "      <th>0</th>\n",
              "      <td>RT @criptolawyer: HEY ❤️‍🔥tenemos boletín en @...</td>\n",
              "    </tr>\n",
              "    <tr>\n",
              "      <th>1</th>\n",
              "      <td>@APompliano @RaoulGMI \\n\\n#BTC \\n#Bitcoin \\n#b...</td>\n",
              "    </tr>\n",
              "    <tr>\n",
              "      <th>2</th>\n",
              "      <td>RT @MMCrypto: BE CAREFUL: I am not trading #Bi...</td>\n",
              "    </tr>\n",
              "    <tr>\n",
              "      <th>3</th>\n",
              "      <td>@LeeMostert1 @zizikodwa Investing today will s...</td>\n",
              "    </tr>\n",
              "    <tr>\n",
              "      <th>4</th>\n",
              "      <td>RT @NateGeraci: While everyone (me included) f...</td>\n",
              "    </tr>\n",
              "    <tr>\n",
              "      <th>...</th>\n",
              "      <td>...</td>\n",
              "    </tr>\n",
              "    <tr>\n",
              "      <th>95</th>\n",
              "      <td>It’s interesting to see that #bitcoiners tend ...</td>\n",
              "    </tr>\n",
              "    <tr>\n",
              "      <th>96</th>\n",
              "      <td>@APompliano did you see Bitcoin?</td>\n",
              "    </tr>\n",
              "    <tr>\n",
              "      <th>97</th>\n",
              "      <td>#BTC #Bitcoin 30 Eylül'de piyasanın 37k'ya düş...</td>\n",
              "    </tr>\n",
              "    <tr>\n",
              "      <th>98</th>\n",
              "      <td>RT @nikunjmodi89: Doge community: @elonmusk wi...</td>\n",
              "    </tr>\n",
              "    <tr>\n",
              "      <th>99</th>\n",
              "      <td>RT @SafemoonWarrior: #SAFEMOON SUNDAY\\nNext Sa...</td>\n",
              "    </tr>\n",
              "  </tbody>\n",
              "</table>\n",
              "<p>100 rows × 1 columns</p>\n",
              "</div>"
            ],
            "text/plain": [
              "                                                    0\n",
              "0   RT @criptolawyer: HEY ❤️‍🔥tenemos boletín en @...\n",
              "1   @APompliano @RaoulGMI \\n\\n#BTC \\n#Bitcoin \\n#b...\n",
              "2   RT @MMCrypto: BE CAREFUL: I am not trading #Bi...\n",
              "3   @LeeMostert1 @zizikodwa Investing today will s...\n",
              "4   RT @NateGeraci: While everyone (me included) f...\n",
              "..                                                ...\n",
              "95  It’s interesting to see that #bitcoiners tend ...\n",
              "96                   @APompliano did you see Bitcoin?\n",
              "97  #BTC #Bitcoin 30 Eylül'de piyasanın 37k'ya düş...\n",
              "98  RT @nikunjmodi89: Doge community: @elonmusk wi...\n",
              "99  RT @SafemoonWarrior: #SAFEMOON SUNDAY\\nNext Sa...\n",
              "\n",
              "[100 rows x 1 columns]"
            ]
          },
          "metadata": {},
          "execution_count": 6
        }
      ]
    },
    {
      "cell_type": "code",
      "metadata": {
        "id": "V7LYSfjLHG_7"
      },
      "source": [
        "tweet_list.drop_duplicates(inplace = True)"
      ],
      "execution_count": null,
      "outputs": []
    },
    {
      "cell_type": "code",
      "metadata": {
        "id": "RHCQd99iHHCo",
        "colab": {
          "base_uri": "https://localhost:8080/",
          "height": 359
        },
        "outputId": "465fa83b-c622-4fe1-bc6b-e33ddba60eb4"
      },
      "source": [
        "#Cleaning Text (RT, Punctuation etc)\n",
        "#Creating new dataframe and new features\n",
        "tw_list = pd.DataFrame(tweet_list)\n",
        "tw_list[\"text\"] = tw_list[0]\n",
        "#Removing RT, Punctuation etc\n",
        "remove_rt = lambda x: re.sub('RT @\\w+: ',\" \",x)\n",
        "rt = lambda x: re.sub(\"(@[A-Za-z0–9]+)|([0-9A-Za-z \\t])|(\\w+:\\/\\/\\S+)\",\" \",x)\n",
        "tw_list[\"text\"] = tw_list.text.map(remove_rt).map(rt)\n",
        "tw_list[\"text\"] = tw_list.text.str.lower()\n",
        "tw_list.head(10)"
      ],
      "execution_count": null,
      "outputs": [
        {
          "output_type": "execute_result",
          "data": {
            "text/html": [
              "<div>\n",
              "<style scoped>\n",
              "    .dataframe tbody tr th:only-of-type {\n",
              "        vertical-align: middle;\n",
              "    }\n",
              "\n",
              "    .dataframe tbody tr th {\n",
              "        vertical-align: top;\n",
              "    }\n",
              "\n",
              "    .dataframe thead th {\n",
              "        text-align: right;\n",
              "    }\n",
              "</style>\n",
              "<table border=\"1\" class=\"dataframe\">\n",
              "  <thead>\n",
              "    <tr style=\"text-align: right;\">\n",
              "      <th></th>\n",
              "      <th>0</th>\n",
              "      <th>text</th>\n",
              "    </tr>\n",
              "  </thead>\n",
              "  <tbody>\n",
              "    <tr>\n",
              "      <th>0</th>\n",
              "      <td>RT @criptolawyer: HEY ❤️‍🔥tenemos boletín en @...</td>\n",
              "      <td>❤️‍🔥             í      ;      í         ...</td>\n",
              "    </tr>\n",
              "    <tr>\n",
              "      <th>1</th>\n",
              "      <td>@APompliano @RaoulGMI \\n\\n#BTC \\n#Bitcoin \\n#b...</td>\n",
              "      <td>\\n\\n#    \\n#        \\n#                  :...</td>\n",
              "    </tr>\n",
              "    <tr>\n",
              "      <th>2</th>\n",
              "      <td>RT @MMCrypto: BE CAREFUL: I am not trading #Bi...</td>\n",
              "      <td>:                  #               ...</td>\n",
              "    </tr>\n",
              "    <tr>\n",
              "      <th>3</th>\n",
              "      <td>@LeeMostert1 @zizikodwa Investing today will s...</td>\n",
              "      <td>...</td>\n",
              "    </tr>\n",
              "    <tr>\n",
              "      <th>4</th>\n",
              "      <td>RT @NateGeraci: While everyone (me included) f...</td>\n",
              "      <td>(           )                 ...</td>\n",
              "    </tr>\n",
              "    <tr>\n",
              "      <th>5</th>\n",
              "      <td>A lot of hands joined aboard the #bitcoin boat...</td>\n",
              "      <td>#            ...</td>\n",
              "    </tr>\n",
              "    <tr>\n",
              "      <th>6</th>\n",
              "      <td>RT @BTC_Archive: The last 2 Sunday nights have...</td>\n",
              "      <td>-    ...</td>\n",
              "    </tr>\n",
              "    <tr>\n",
              "      <th>7</th>\n",
              "      <td>RT @MsHodl: Mark Cuban doesn’t understand Bitc...</td>\n",
              "      <td>’                    .       ...</td>\n",
              "    </tr>\n",
              "    <tr>\n",
              "      <th>8</th>\n",
              "      <td>RT @AirdropStario: 💧 Olympic Doge Airdrop 💧\\n\\...</td>\n",
              "      <td>💧                      💧\\n\\n🏆     :          ...</td>\n",
              "    </tr>\n",
              "    <tr>\n",
              "      <th>9</th>\n",
              "      <td>Crypto Prices (USD/₿)\\n\\nBitcoin ⇒ $59577.4714...</td>\n",
              "      <td>(   /₿)\\n\\n        ⇒ $     .    ...</td>\n",
              "    </tr>\n",
              "  </tbody>\n",
              "</table>\n",
              "</div>"
            ],
            "text/plain": [
              "                                                   0                                               text\n",
              "0  RT @criptolawyer: HEY ❤️‍🔥tenemos boletín en @...       ❤️‍🔥             í      ;      í         ...\n",
              "1  @APompliano @RaoulGMI \\n\\n#BTC \\n#Bitcoin \\n#b...      \\n\\n#    \\n#        \\n#                  :...\n",
              "2  RT @MMCrypto: BE CAREFUL: I am not trading #Bi...             :                  #               ...\n",
              "3  @LeeMostert1 @zizikodwa Investing today will s...                                                ...\n",
              "4  RT @NateGeraci: While everyone (me included) f...                  (           )                 ...\n",
              "5  A lot of hands joined aboard the #bitcoin boat...                                   #            ...\n",
              "6  RT @BTC_Archive: The last 2 Sunday nights have...                                           -    ...\n",
              "7  RT @MsHodl: Mark Cuban doesn’t understand Bitc...                   ’                    .       ...\n",
              "8  RT @AirdropStario: 💧 Olympic Doge Airdrop 💧\\n\\...   💧                      💧\\n\\n🏆     :          ...\n",
              "9  Crypto Prices (USD/₿)\\n\\nBitcoin ⇒ $59577.4714...                (   /₿)\\n\\n        ⇒ $     .    ..."
            ]
          },
          "metadata": {},
          "execution_count": 8
        }
      ]
    },
    {
      "cell_type": "code",
      "metadata": {
        "id": "Mjku0GT8HK4q",
        "colab": {
          "base_uri": "https://localhost:8080/",
          "height": 359
        },
        "outputId": "b46bc4a6-f115-4220-8b81-e373505e2d63"
      },
      "source": [
        "#Calculating Negative, Positive, Neutral and Compound values\n",
        "tw_list[['polarity', 'subjectivity']] = tw_list['text'].apply(lambda Text: pd.Series(TextBlob(Text).sentiment))\n",
        "for index, row in tw_list['text'].iteritems():\n",
        "  score = SentimentIntensityAnalyzer().polarity_scores(row)\n",
        "  neg = score['neg']\n",
        "  neu = score['neu']\n",
        "  pos = score['pos']\n",
        "  comp = score['compound']\n",
        "  if neg > pos:\n",
        "    tw_list.loc[index, 'sentiment'] = \"negative\"\n",
        "  elif pos > neg:\n",
        "    tw_list.loc[index, 'sentiment'] = \"positive\"\n",
        "  else:\n",
        "    tw_list.loc[index, 'sentiment'] = \"neutral\"\n",
        "    tw_list.loc[index, 'neg'] = neg\n",
        "    tw_list.loc[index, 'neu'] = neu\n",
        "    tw_list.loc[index, 'pos'] = pos\n",
        "    tw_list.loc[index, 'compound'] = comp\n",
        "tw_list.head(10)"
      ],
      "execution_count": null,
      "outputs": [
        {
          "output_type": "execute_result",
          "data": {
            "text/html": [
              "<div>\n",
              "<style scoped>\n",
              "    .dataframe tbody tr th:only-of-type {\n",
              "        vertical-align: middle;\n",
              "    }\n",
              "\n",
              "    .dataframe tbody tr th {\n",
              "        vertical-align: top;\n",
              "    }\n",
              "\n",
              "    .dataframe thead th {\n",
              "        text-align: right;\n",
              "    }\n",
              "</style>\n",
              "<table border=\"1\" class=\"dataframe\">\n",
              "  <thead>\n",
              "    <tr style=\"text-align: right;\">\n",
              "      <th></th>\n",
              "      <th>0</th>\n",
              "      <th>text</th>\n",
              "      <th>polarity</th>\n",
              "      <th>subjectivity</th>\n",
              "      <th>sentiment</th>\n",
              "      <th>neg</th>\n",
              "      <th>neu</th>\n",
              "      <th>pos</th>\n",
              "      <th>compound</th>\n",
              "    </tr>\n",
              "  </thead>\n",
              "  <tbody>\n",
              "    <tr>\n",
              "      <th>0</th>\n",
              "      <td>RT @criptolawyer: HEY ❤️‍🔥tenemos boletín en @...</td>\n",
              "      <td>❤️‍🔥             í      ;      í         ...</td>\n",
              "      <td>0.0</td>\n",
              "      <td>0.0</td>\n",
              "      <td>neutral</td>\n",
              "      <td>0.0</td>\n",
              "      <td>1.0</td>\n",
              "      <td>0.0</td>\n",
              "      <td>0.0</td>\n",
              "    </tr>\n",
              "    <tr>\n",
              "      <th>1</th>\n",
              "      <td>@APompliano @RaoulGMI \\n\\n#BTC \\n#Bitcoin \\n#b...</td>\n",
              "      <td>\\n\\n#    \\n#        \\n#                  :...</td>\n",
              "      <td>0.0</td>\n",
              "      <td>0.0</td>\n",
              "      <td>neutral</td>\n",
              "      <td>0.0</td>\n",
              "      <td>1.0</td>\n",
              "      <td>0.0</td>\n",
              "      <td>0.0</td>\n",
              "    </tr>\n",
              "    <tr>\n",
              "      <th>2</th>\n",
              "      <td>RT @MMCrypto: BE CAREFUL: I am not trading #Bi...</td>\n",
              "      <td>:                  #               ...</td>\n",
              "      <td>0.0</td>\n",
              "      <td>0.0</td>\n",
              "      <td>neutral</td>\n",
              "      <td>0.0</td>\n",
              "      <td>1.0</td>\n",
              "      <td>0.0</td>\n",
              "      <td>0.0</td>\n",
              "    </tr>\n",
              "    <tr>\n",
              "      <th>3</th>\n",
              "      <td>@LeeMostert1 @zizikodwa Investing today will s...</td>\n",
              "      <td>...</td>\n",
              "      <td>0.0</td>\n",
              "      <td>0.0</td>\n",
              "      <td>neutral</td>\n",
              "      <td>0.0</td>\n",
              "      <td>1.0</td>\n",
              "      <td>0.0</td>\n",
              "      <td>0.0</td>\n",
              "    </tr>\n",
              "    <tr>\n",
              "      <th>4</th>\n",
              "      <td>RT @NateGeraci: While everyone (me included) f...</td>\n",
              "      <td>(           )                 ...</td>\n",
              "      <td>0.0</td>\n",
              "      <td>0.0</td>\n",
              "      <td>neutral</td>\n",
              "      <td>0.0</td>\n",
              "      <td>1.0</td>\n",
              "      <td>0.0</td>\n",
              "      <td>0.0</td>\n",
              "    </tr>\n",
              "    <tr>\n",
              "      <th>5</th>\n",
              "      <td>A lot of hands joined aboard the #bitcoin boat...</td>\n",
              "      <td>#            ...</td>\n",
              "      <td>0.0</td>\n",
              "      <td>0.0</td>\n",
              "      <td>neutral</td>\n",
              "      <td>0.0</td>\n",
              "      <td>0.0</td>\n",
              "      <td>0.0</td>\n",
              "      <td>0.0</td>\n",
              "    </tr>\n",
              "    <tr>\n",
              "      <th>6</th>\n",
              "      <td>RT @BTC_Archive: The last 2 Sunday nights have...</td>\n",
              "      <td>-    ...</td>\n",
              "      <td>0.0</td>\n",
              "      <td>0.0</td>\n",
              "      <td>neutral</td>\n",
              "      <td>0.0</td>\n",
              "      <td>1.0</td>\n",
              "      <td>0.0</td>\n",
              "      <td>0.0</td>\n",
              "    </tr>\n",
              "    <tr>\n",
              "      <th>7</th>\n",
              "      <td>RT @MsHodl: Mark Cuban doesn’t understand Bitc...</td>\n",
              "      <td>’                    .       ...</td>\n",
              "      <td>0.0</td>\n",
              "      <td>0.0</td>\n",
              "      <td>neutral</td>\n",
              "      <td>0.0</td>\n",
              "      <td>0.0</td>\n",
              "      <td>0.0</td>\n",
              "      <td>0.0</td>\n",
              "    </tr>\n",
              "    <tr>\n",
              "      <th>8</th>\n",
              "      <td>RT @AirdropStario: 💧 Olympic Doge Airdrop 💧\\n\\...</td>\n",
              "      <td>💧                      💧\\n\\n🏆     :          ...</td>\n",
              "      <td>0.0</td>\n",
              "      <td>0.0</td>\n",
              "      <td>neutral</td>\n",
              "      <td>0.0</td>\n",
              "      <td>1.0</td>\n",
              "      <td>0.0</td>\n",
              "      <td>0.0</td>\n",
              "    </tr>\n",
              "    <tr>\n",
              "      <th>9</th>\n",
              "      <td>Crypto Prices (USD/₿)\\n\\nBitcoin ⇒ $59577.4714...</td>\n",
              "      <td>(   /₿)\\n\\n        ⇒ $     .    ...</td>\n",
              "      <td>0.0</td>\n",
              "      <td>0.0</td>\n",
              "      <td>neutral</td>\n",
              "      <td>0.0</td>\n",
              "      <td>1.0</td>\n",
              "      <td>0.0</td>\n",
              "      <td>0.0</td>\n",
              "    </tr>\n",
              "  </tbody>\n",
              "</table>\n",
              "</div>"
            ],
            "text/plain": [
              "                                                   0  ... compound\n",
              "0  RT @criptolawyer: HEY ❤️‍🔥tenemos boletín en @...  ...      0.0\n",
              "1  @APompliano @RaoulGMI \\n\\n#BTC \\n#Bitcoin \\n#b...  ...      0.0\n",
              "2  RT @MMCrypto: BE CAREFUL: I am not trading #Bi...  ...      0.0\n",
              "3  @LeeMostert1 @zizikodwa Investing today will s...  ...      0.0\n",
              "4  RT @NateGeraci: While everyone (me included) f...  ...      0.0\n",
              "5  A lot of hands joined aboard the #bitcoin boat...  ...      0.0\n",
              "6  RT @BTC_Archive: The last 2 Sunday nights have...  ...      0.0\n",
              "7  RT @MsHodl: Mark Cuban doesn’t understand Bitc...  ...      0.0\n",
              "8  RT @AirdropStario: 💧 Olympic Doge Airdrop 💧\\n\\...  ...      0.0\n",
              "9  Crypto Prices (USD/₿)\\n\\nBitcoin ⇒ $59577.4714...  ...      0.0\n",
              "\n",
              "[10 rows x 9 columns]"
            ]
          },
          "metadata": {},
          "execution_count": 9
        }
      ]
    },
    {
      "cell_type": "code",
      "metadata": {
        "id": "z5fAs50VHK7q"
      },
      "source": [
        "#Creating new data frames for all sentiments (positive, negative and neutral)\n",
        "tw_list_negative = tw_list[tw_list[\"sentiment\"]==\"negative\"]\n",
        "tw_list_positive = tw_list[tw_list[\"sentiment\"]==\"positive\"]\n",
        "tw_list_neutral = tw_list[tw_list[\"sentiment\"]==\"neutral\"]"
      ],
      "execution_count": null,
      "outputs": []
    },
    {
      "cell_type": "code",
      "metadata": {
        "id": "-yiyIabaHK-t",
        "colab": {
          "base_uri": "https://localhost:8080/",
          "height": 80
        },
        "outputId": "61ab5f44-dffa-4bb5-ff4d-66fdc3ad2454"
      },
      "source": [
        "def count_values_in_column(data,feature):\n",
        "  total=data.loc[:,feature].value_counts(dropna=False)\n",
        "  percentage=round(data.loc[:,feature].value_counts(dropna=False,normalize=True)*100,2)\n",
        "  return pd.concat([total,percentage],axis=1,keys=['Total','Percentage'])\n",
        "#Count_values for sentiment\n",
        "count_values_in_column(tw_list,\"sentiment\")"
      ],
      "execution_count": null,
      "outputs": [
        {
          "output_type": "execute_result",
          "data": {
            "text/html": [
              "<div>\n",
              "<style scoped>\n",
              "    .dataframe tbody tr th:only-of-type {\n",
              "        vertical-align: middle;\n",
              "    }\n",
              "\n",
              "    .dataframe tbody tr th {\n",
              "        vertical-align: top;\n",
              "    }\n",
              "\n",
              "    .dataframe thead th {\n",
              "        text-align: right;\n",
              "    }\n",
              "</style>\n",
              "<table border=\"1\" class=\"dataframe\">\n",
              "  <thead>\n",
              "    <tr style=\"text-align: right;\">\n",
              "      <th></th>\n",
              "      <th>Total</th>\n",
              "      <th>Percentage</th>\n",
              "    </tr>\n",
              "  </thead>\n",
              "  <tbody>\n",
              "    <tr>\n",
              "      <th>neutral</th>\n",
              "      <td>90</td>\n",
              "      <td>100.0</td>\n",
              "    </tr>\n",
              "  </tbody>\n",
              "</table>\n",
              "</div>"
            ],
            "text/plain": [
              "         Total  Percentage\n",
              "neutral     90       100.0"
            ]
          },
          "metadata": {},
          "execution_count": 11
        }
      ]
    },
    {
      "cell_type": "code",
      "metadata": {
        "id": "Y3mpOk9IHLBj",
        "colab": {
          "base_uri": "https://localhost:8080/",
          "height": 406
        },
        "outputId": "6e52c09e-7007-455d-ef23-869086591a38"
      },
      "source": [
        "# create data for Pie Chart\n",
        "pc = count_values_in_column(tw_list,\"sentiment\")\n",
        "names = pc.index\n",
        "size = pc[\"Percentage\"]\n",
        " \n",
        "# Create a circle for the center of the plot\n",
        "my_circle=plt.Circle( (0,0), 0.7, color='white')\n",
        "plt.pie(size, labels=names, colors=['green','blue','red'])\n",
        "p=plt.gcf()\n",
        "p.gca().add_artist(my_circle)\n",
        "plt.show()"
      ],
      "execution_count": null,
      "outputs": [
        {
          "output_type": "display_data",
          "data": {
            "image/png": "[encoded data removed]",
            "text/plain": [
              "<Figure size 640x480 with 1 Axes>"
            ]
          },
          "metadata": {}
        }
      ]
    },
    {
      "cell_type": "code",
      "metadata": {
        "id": "GvYWQ786HQU8"
      },
      "source": [
        "#Function to Create Wordcloud\n",
        "def create_wordcloud(text):\n",
        "  mask = np.array(Image.open(\"cloud.png\"))\n",
        "  stopwords = set(STOPWORDS)\n",
        "  wc = WordCloud(background_color=\"white\",\n",
        "  mask = mask,\n",
        "  max_words=3000,\n",
        "  stopwords=stopwords,\n",
        "  repeat=True)\n",
        "  wc.generate(str(text))\n",
        "  wc.to_file(\"wc.png\")\n",
        "  print(\"Word Cloud Saved Successfully\")\n",
        "  path=\"wc.png\"\n",
        "  display(Image.open(path))"
      ],
      "execution_count": null,
      "outputs": []
    },
    {
      "cell_type": "code",
      "metadata": {
        "id": "eyNml6zTHQXp",
        "colab": {
          "base_uri": "https://localhost:8080/",
          "height": 323
        },
        "outputId": "958e30ad-d3c5-4a68-b415-3e00ec1e309e"
      },
      "source": [
        "#Creating wordcloud for all tweets\n",
        "create_wordcloud(tw_list[\"text\"].values)"
      ],
      "execution_count": null,
      "outputs": [
        {
          "output_type": "error",
          "ename": "FileNotFoundError",
          "evalue": "ignored",
          "traceback": [
            "\u001b[0;31m---------------------------------------------------------------------------\u001b[0m",
            "\u001b[0;31mFileNotFoundError\u001b[0m                         Traceback (most recent call last)",
            "\u001b[0;32m<ipython-input-16-ea836fed659a>\u001b[0m in \u001b[0;36m<module>\u001b[0;34m()\u001b[0m\n\u001b[1;32m      1\u001b[0m \u001b[0;31m#Creating wordcloud for all tweets\u001b[0m\u001b[0;34m\u001b[0m\u001b[0;34m\u001b[0m\u001b[0;34m\u001b[0m\u001b[0m\n\u001b[0;32m----> 2\u001b[0;31m \u001b[0mcreate_wordcloud\u001b[0m\u001b[0;34m(\u001b[0m\u001b[0mtw_list\u001b[0m\u001b[0;34m[\u001b[0m\u001b[0;34m\"text\"\u001b[0m\u001b[0;34m]\u001b[0m\u001b[0;34m.\u001b[0m\u001b[0mvalues\u001b[0m\u001b[0;34m)\u001b[0m\u001b[0;34m\u001b[0m\u001b[0;34m\u001b[0m\u001b[0m\n\u001b[0m",
            "\u001b[0;32m<ipython-input-15-5ae43219e5d5>\u001b[0m in \u001b[0;36mcreate_wordcloud\u001b[0;34m(text)\u001b[0m\n\u001b[1;32m      1\u001b[0m \u001b[0;31m#Function to Create Wordcloud\u001b[0m\u001b[0;34m\u001b[0m\u001b[0;34m\u001b[0m\u001b[0;34m\u001b[0m\u001b[0m\n\u001b[1;32m      2\u001b[0m \u001b[0;32mdef\u001b[0m \u001b[0mcreate_wordcloud\u001b[0m\u001b[0;34m(\u001b[0m\u001b[0mtext\u001b[0m\u001b[0;34m)\u001b[0m\u001b[0;34m:\u001b[0m\u001b[0;34m\u001b[0m\u001b[0;34m\u001b[0m\u001b[0m\n\u001b[0;32m----> 3\u001b[0;31m   \u001b[0mmask\u001b[0m \u001b[0;34m=\u001b[0m \u001b[0mnp\u001b[0m\u001b[0;34m.\u001b[0m\u001b[0marray\u001b[0m\u001b[0;34m(\u001b[0m\u001b[0mImage\u001b[0m\u001b[0;34m.\u001b[0m\u001b[0mopen\u001b[0m\u001b[0;34m(\u001b[0m\u001b[0;34m\"./cloud.png\"\u001b[0m\u001b[0;34m)\u001b[0m\u001b[0;34m)\u001b[0m\u001b[0;34m\u001b[0m\u001b[0;34m\u001b[0m\u001b[0m\n\u001b[0m\u001b[1;32m      4\u001b[0m   \u001b[0mstopwords\u001b[0m \u001b[0;34m=\u001b[0m \u001b[0mset\u001b[0m\u001b[0;34m(\u001b[0m\u001b[0mSTOPWORDS\u001b[0m\u001b[0;34m)\u001b[0m\u001b[0;34m\u001b[0m\u001b[0;34m\u001b[0m\u001b[0m\n\u001b[1;32m      5\u001b[0m   wc = WordCloud(background_color=\"white\",\n",
            "\u001b[0;32m/usr/local/lib/python3.7/dist-packages/PIL/Image.py\u001b[0m in \u001b[0;36mopen\u001b[0;34m(fp, mode)\u001b[0m\n\u001b[1;32m   2841\u001b[0m \u001b[0;34m\u001b[0m\u001b[0m\n\u001b[1;32m   2842\u001b[0m     \u001b[0;32mif\u001b[0m \u001b[0mfilename\u001b[0m\u001b[0;34m:\u001b[0m\u001b[0;34m\u001b[0m\u001b[0;34m\u001b[0m\u001b[0m\n\u001b[0;32m-> 2843\u001b[0;31m         \u001b[0mfp\u001b[0m \u001b[0;34m=\u001b[0m \u001b[0mbuiltins\u001b[0m\u001b[0;34m.\u001b[0m\u001b[0mopen\u001b[0m\u001b[0;34m(\u001b[0m\u001b[0mfilename\u001b[0m\u001b[0;34m,\u001b[0m \u001b[0;34m\"rb\"\u001b[0m\u001b[0;34m)\u001b[0m\u001b[0;34m\u001b[0m\u001b[0;34m\u001b[0m\u001b[0m\n\u001b[0m\u001b[1;32m   2844\u001b[0m         \u001b[0mexclusive_fp\u001b[0m \u001b[0;34m=\u001b[0m \u001b[0;32mTrue\u001b[0m\u001b[0;34m\u001b[0m\u001b[0;34m\u001b[0m\u001b[0m\n\u001b[1;32m   2845\u001b[0m \u001b[0;34m\u001b[0m\u001b[0m\n",
            "\u001b[0;31mFileNotFoundError\u001b[0m: [Errno 2] No such file or directory: './cloud.png'"
          ]
        }
      ]
    },
    {
      "cell_type": "code",
      "metadata": {
        "id": "IgxV_ggjHQaQ"
      },
      "source": [
        "#Creating wordcloud for positive sentiment\n",
        "create_wordcloud(tw_list_positive[\"text\"].values)"
      ],
      "execution_count": null,
      "outputs": []
    },
    {
      "cell_type": "code",
      "metadata": {
        "id": "6up19VJsHUil"
      },
      "source": [
        "#Creating wordcloud for negative sentiment\n",
        "create_wordcloud(tw_list_negative[\"text\"].values)"
      ],
      "execution_count": null,
      "outputs": []
    },
    {
      "cell_type": "code",
      "metadata": {
        "id": "5fhLqPrJHUlr"
      },
      "source": [
        "#Calculating tweet's lenght and word count\n",
        "tw_list['text_len'] = tw_list['text'].astype(str).apply(len)\n",
        "tw_list['text_word_count'] = tw_list['text'].apply(lambda x: len(str(x).split()))\n",
        "round(pd.DataFrame(tw_list.groupby(\"sentiment\").text_len.mean()),2)"
      ],
      "execution_count": null,
      "outputs": []
    },
    {
      "cell_type": "code",
      "metadata": {
        "id": "KKTvjNggHUqF"
      },
      "source": [
        "round(pd.DataFrame(tw_list.groupby(\"sentiment\").text_word_count.mean()),2)"
      ],
      "execution_count": null,
      "outputs": []
    },
    {
      "cell_type": "code",
      "metadata": {
        "id": "5jvgajJeHLEU"
      },
      "source": [
        "#Removing Punctuation\n",
        "def remove_punct(text):\n",
        " text = \"\".join([char for char in text if char not in string.punctuation])\n",
        " text = re.sub('[0–9]+', '', text)\n",
        " return text\n",
        "tw_list['punct'] = tw_list['text'].apply(lambda x: remove_punct(x))\n",
        "#Appliyng tokenization\n",
        "def tokenization(text):\n",
        "    text = re.split('\\W+', text)\n",
        "    return text\n",
        "tw_list['tokenized'] = tw_list['punct'].apply(lambda x: tokenization(x.lower()))\n",
        "#Removing stopwords\n",
        "stopword = nltk.corpus.stopwords.words('english')\n",
        "def remove_stopwords(text):\n",
        "    text = [word for word in text if word not in stopword]\n",
        "    return text\n",
        "    \n",
        "tw_list['nonstop'] = tw_list['tokenized'].apply(lambda x: remove_stopwords(x))\n",
        "#Appliyng Stemmer\n",
        "ps = nltk.PorterStemmer()\n",
        "def stemming(text):\n",
        "    text = [ps.stem(word) for word in text]\n",
        "    return text\n",
        "tw_list['stemmed'] = tw_list['nonstop'].apply(lambda x: stemming(x))\n",
        "#Cleaning Text\n",
        "def clean_text(text):\n",
        "    text_lc = \"\".join([word.lower() for word in text if word not in string.punctuation]) # remove puntuation\n",
        "    text_rc = re.sub('[0-9]+', '', text_lc)\n",
        "    tokens = re.split('\\W+', text_rc)    # tokenization\n",
        "    text = [ps.stem(word) for word in tokens if word not in stopword]  # remove stopwords and stemming\n",
        "    return text\n",
        "tw_list.head()"
      ],
      "execution_count": null,
      "outputs": []
    },
    {
      "cell_type": "code",
      "metadata": {
        "id": "cXk7tLUoHaV3"
      },
      "source": [
        "#Appliyng Countvectorizer\n",
        "countVectorizer = CountVectorizer(analyzer=clean_text) \n",
        "countVector = countVectorizer.fit_transform(tw_list['text'])\n",
        "print('{} Number of reviews has {} words'.format(countVector.shape[0], countVector.shape[1]))\n",
        "\n",
        "count_vect_df = pd.DataFrame(countVector.toarray(), columns=countVectorizer.get_feature_names())\n",
        "count_vect_df.head()"
      ],
      "execution_count": null,
      "outputs": []
    },
    {
      "cell_type": "code",
      "metadata": {
        "id": "RzDPE2BbHaYk"
      },
      "source": [
        "# Most Used Words\n",
        "count = pd.DataFrame(count_vect_df.sum())\n",
        "countdf = count.sort_values(0,ascending=False).head(20)\n",
        "countdf[1:11]"
      ],
      "execution_count": null,
      "outputs": []
    },
    {
      "cell_type": "code",
      "metadata": {
        "id": "meDSN69ZHabl"
      },
      "source": [
        "#Function to ngram\n",
        "def get_top_n_gram(corpus,ngram_range,n=None):\n",
        " vec = CountVectorizer(ngram_range=ngram_range,stop_words = 'english').fit(corpus)\n",
        " bag_of_words = vec.transform(corpus)\n",
        " sum_words = bag_of_words.sum(axis=0) \n",
        " words_freq = [(word, sum_words[0, idx]) for word, idx in vec.vocabulary_.items()]\n",
        " words_freq =sorted(words_freq, key = lambda x: x[1], reverse=True)\n",
        " return words_freq[:n]\n",
        "#n2_bigram\n",
        "n2_bigrams = get_top_n_gram(tw_list['text'],(2,2),20)\n",
        "n2_bigrams"
      ],
      "execution_count": null,
      "outputs": []
    },
    {
      "cell_type": "code",
      "metadata": {
        "id": "BlxnWbnUHaek"
      },
      "source": [
        "#n3_trigram\n",
        "n3_trigrams = get_top_n_gram(tw_list['text'],(3,3),20)\n",
        "n3_trigrams"
      ],
      "execution_count": null,
      "outputs": []
    },
    {
      "cell_type": "code",
      "metadata": {
        "id": "G-OzUjijHahg"
      },
      "source": [
        ""
      ],
      "execution_count": null,
      "outputs": []
    },
    {
      "cell_type": "code",
      "metadata": {
        "id": "rGkDl187HanJ"
      },
      "source": [
        ""
      ],
      "execution_count": null,
      "outputs": []
    }
  ]
}