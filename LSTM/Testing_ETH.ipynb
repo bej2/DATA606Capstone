{
 "cells": [
  {
   "cell_type": "code",
   "execution_count": 1,
   "id": "815807cd",
   "metadata": {},
   "outputs": [],
   "source": [
    "#importing libraries\n",
    "import pandas as pd\n",
    "import numpy as np\n",
    "import pandas_datareader as web\n",
    "import seaborn as sns\n",
    "import matplotlib.pyplot as plt\n",
    "import mplfinance as mpf\n",
    "import datetime as dt\n",
    "from matplotlib.pyplot import figure"
   ]
  },
  {
   "cell_type": "code",
   "execution_count": 2,
   "id": "0c6896a9",
   "metadata": {},
   "outputs": [],
   "source": [
    "#Training AND testing\n",
    "from sklearn.preprocessing import MinMaxScaler\n",
    "from tensorflow.keras.layers import Dense, Dropout, LSTM\n",
    "from tensorflow.keras.layers import Input, Dense, Activation, Dropout, BatchNormalization\n",
    "from tensorflow.keras.models import Sequential"
   ]
  },
  {
   "cell_type": "code",
   "execution_count": 3,
   "id": "20c4b073",
   "metadata": {},
   "outputs": [],
   "source": [
    "against_curr = 'USD'"
   ]
  },
  {
   "cell_type": "code",
   "execution_count": 4,
   "id": "39aeff74",
   "metadata": {},
   "outputs": [],
   "source": [
    "crypto_eth = 'ETH'\n",
    "colnames = []"
   ]
  },
  {
   "cell_type": "code",
   "execution_count": 5,
   "id": "5a29dc53",
   "metadata": {},
   "outputs": [],
   "source": [
    "start = dt.datetime(2016, 10 ,10)\n",
    "end = dt.datetime.now()\n",
    "\n",
    "datadb = web.DataReader(f'{crypto_eth}-{against_curr}', 'yahoo', start, end)\n",
    "\n",
    "scaler = MinMaxScaler(feature_range=(0,1))\n",
    "scaled_data = scaler.fit_transform(datadb['Close'].values.reshape(-1,1))\n",
    "prediction_days = 60\n",
    "future_days01 = 180"
   ]
  },
  {
   "cell_type": "code",
   "execution_count": 6,
   "id": "8190f619",
   "metadata": {},
   "outputs": [],
   "source": [
    "x_train, y_train = [], []\n",
    "for x in range(prediction_days, len(scaled_data) - future_days01):\n",
    "    x_train.append(scaled_data[x-prediction_days:x, 0])\n",
    "    y_train.append(scaled_data[x + future_days01, 0])\n",
    "    \n",
    "x_train, y_train = np.array(x_train), np.array(y_train)\n",
    "x_train = np.reshape(x_train, (x_train.shape[0], x_train.shape[1], 1))"
   ]
  },
  {
   "cell_type": "code",
   "execution_count": 7,
   "id": "d72a98d6",
   "metadata": {},
   "outputs": [
    {
     "name": "stdout",
     "output_type": "stream",
     "text": [
      "Epoch 1/25\n",
      "52/52 [==============================] - 7s 68ms/step - loss: 0.0284\n",
      "Epoch 2/25\n",
      "52/52 [==============================] - 3s 64ms/step - loss: 0.0208\n",
      "Epoch 3/25\n",
      "52/52 [==============================] - 3s 65ms/step - loss: 0.0206\n",
      "Epoch 4/25\n",
      "52/52 [==============================] - 3s 58ms/step - loss: 0.0200\n",
      "Epoch 5/25\n",
      "52/52 [==============================] - 3s 65ms/step - loss: 0.0202\n",
      "Epoch 6/25\n",
      "52/52 [==============================] - 3s 67ms/step - loss: 0.0211\n",
      "Epoch 7/25\n",
      "52/52 [==============================] - 3s 65ms/step - loss: 0.0196\n",
      "Epoch 8/25\n",
      "52/52 [==============================] - 3s 63ms/step - loss: 0.0201\n",
      "Epoch 9/25\n",
      "52/52 [==============================] - 3s 64ms/step - loss: 0.0197\n",
      "Epoch 10/25\n",
      "52/52 [==============================] - 3s 59ms/step - loss: 0.0190\n",
      "Epoch 11/25\n",
      "52/52 [==============================] - 4s 69ms/step - loss: 0.0187\n",
      "Epoch 12/25\n",
      "52/52 [==============================] - 3s 65ms/step - loss: 0.0177\n",
      "Epoch 13/25\n",
      "52/52 [==============================] - 4s 70ms/step - loss: 0.0164\n",
      "Epoch 14/25\n",
      "52/52 [==============================] - 4s 69ms/step - loss: 0.0157\n",
      "Epoch 15/25\n",
      "52/52 [==============================] - 3s 65ms/step - loss: 0.0142\n",
      "Epoch 16/25\n",
      "52/52 [==============================] - 3s 60ms/step - loss: 0.0149\n",
      "Epoch 17/25\n",
      "52/52 [==============================] - 3s 60ms/step - loss: 0.0135\n",
      "Epoch 18/25\n",
      "52/52 [==============================] - 3s 61ms/step - loss: 0.0130: 0s - lo\n",
      "Epoch 19/25\n",
      "52/52 [==============================] - 3s 57ms/step - loss: 0.0154\n",
      "Epoch 20/25\n",
      "52/52 [==============================] - 3s 59ms/step - loss: 0.0142\n",
      "Epoch 21/25\n",
      "52/52 [==============================] - 3s 65ms/step - loss: 0.0141\n",
      "Epoch 22/25\n",
      "52/52 [==============================] - 3s 66ms/step - loss: 0.0140\n",
      "Epoch 23/25\n",
      "52/52 [==============================] - 3s 66ms/step - loss: 0.0124\n",
      "Epoch 24/25\n",
      "52/52 [==============================] - 3s 65ms/step - loss: 0.0127\n",
      "Epoch 25/25\n",
      "52/52 [==============================] - 3s 67ms/step - loss: 0.0131\n"
     ]
    },
    {
     "data": {
      "text/plain": [
       "<keras.callbacks.History at 0x20d4ec9c580>"
      ]
     },
     "execution_count": 7,
     "metadata": {},
     "output_type": "execute_result"
    }
   ],
   "source": [
    "#creating neural network\n",
    "model = Sequential()\n",
    "model.add(LSTM(units = 50, return_sequences=True, input_shape=(x_train.shape[1], 1)))\n",
    "model.add(Dropout(0.2))\n",
    "model.add(LSTM(units = 50, return_sequences=True))\n",
    "model.add(Dropout(0.2))\n",
    "model.add(LSTM(units = 50))\n",
    "model.add(Dropout(0.2))\n",
    "model.add(Dense(units=1))\n",
    "\n",
    "model.compile(optimizer = 'adam', loss = 'mean_squared_error')\n",
    "model.fit(x_train, y_train, epochs = 25, batch_size = 32)"
   ]
  },
  {
   "cell_type": "code",
   "execution_count": 8,
   "id": "ed660762",
   "metadata": {},
   "outputs": [],
   "source": [
    "#testing model\n",
    "test_start = dt.datetime(2021, 1, 1)\n",
    "test_end = dt.datetime.now()"
   ]
  },
  {
   "cell_type": "code",
   "execution_count": 9,
   "id": "e0cd2104",
   "metadata": {},
   "outputs": [],
   "source": [
    "test_data = web.DataReader(f'{crypto_eth}-{against_curr}', 'yahoo', test_start, test_end)\n",
    "actual_prices = test_data['Close'].values\n",
    "\n",
    "total_dataset = pd.concat((datadb['Close'],test_data['Close']), axis = 0)"
   ]
  },
  {
   "cell_type": "code",
   "execution_count": 10,
   "id": "7fe44a96",
   "metadata": {},
   "outputs": [],
   "source": [
    "model_inputs = total_dataset[len(total_dataset) - len(test_data) - prediction_days:].values\n",
    "model_inputs = model_inputs.reshape(-1, 1)\n",
    "model_inputs = scaler.fit_transform(model_inputs)"
   ]
  },
  {
   "cell_type": "code",
   "execution_count": 11,
   "id": "2dab8841",
   "metadata": {},
   "outputs": [],
   "source": [
    "x_test = []\n",
    "for x in range(prediction_days, len(model_inputs)):\n",
    "    x_test.append(model_inputs[x-prediction_days:x, 0])\n",
    "    \n",
    "x_test = np.array(x_test)\n",
    "x_test = np.reshape(x_test, (x_test.shape[0], x_test.shape[1], 1))\n",
    "\n",
    "prediction_prices = model.predict(x_test)\n",
    "prediction_prices = scaler.inverse_transform(prediction_prices)"
   ]
  },
  {
   "cell_type": "code",
   "execution_count": 12,
   "id": "444e51ef",
   "metadata": {},
   "outputs": [
    {
     "data": {
      "image/png": "[encoded data removed]",
      "text/plain": [
       "<Figure size 432x288 with 1 Axes>"
      ]
     },
     "metadata": {
      "needs_background": "light"
     },
     "output_type": "display_data"
    }
   ],
   "source": [
    "plt.plot(actual_prices, color = 'black', label = \"Actual Prices\")\n",
    "plt.plot(prediction_prices, color = \"red\", label = \"Predicted Prices\")\n",
    "plt.title(f'{crypto_eth} price prediction')\n",
    "plt.xlabel('Time')\n",
    "plt.ylabel('Price')\n",
    "plt.legend(loc = \"upper left\")\n",
    "plt.show()\n"
   ]
  },
  {
   "cell_type": "code",
   "execution_count": 15,
   "id": "ce56f6b2",
   "metadata": {},
   "outputs": [],
   "source": [
    "real_data = [model_inputs[len(model_inputs) + 1 - prediction_days:len(model_inputs) + 1, 0]]\n",
    "real_data = np.array(real_data)\n",
    "real_data = np.reshape(real_data, (real_data.shape[0], real_data.shape[1], 1))"
   ]
  },
  {
   "cell_type": "code",
   "execution_count": 16,
   "id": "e6092a16",
   "metadata": {},
   "outputs": [
    {
     "name": "stdout",
     "output_type": "stream",
     "text": [
      "[[4582.7583]]\n"
     ]
    }
   ],
   "source": [
    "prediction = model.predict(real_data)\n",
    "prediction = scaler.inverse_transform(prediction)\n",
    "print(prediction)"
   ]
  },
  {
   "cell_type": "code",
   "execution_count": null,
   "id": "d3aa2fdd",
   "metadata": {},
   "outputs": [],
   "source": []
  }
 ],
 "metadata": {
  "kernelspec": {
   "display_name": "Python 3",
   "language": "python",
   "name": "python3"
  },
  "language_info": {
   "codemirror_mode": {
    "name": "ipython",
    "version": 3
   },
   "file_extension": ".py",
   "mimetype": "text/x-python",
   "name": "python",
   "nbconvert_exporter": "python",
   "pygments_lexer": "ipython3",
   "version": "3.8.8"
  }
 },
 "nbformat": 4,
 "nbformat_minor": 5
}
