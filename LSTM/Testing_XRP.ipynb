{
 "cells": [
  {
   "cell_type": "code",
   "execution_count": 1,
   "id": "e5f35b0c",
   "metadata": {},
   "outputs": [],
   "source": [
    "#importing libraries\n",
    "import pandas as pd\n",
    "import numpy as np\n",
    "import pandas_datareader as web\n",
    "import seaborn as sns\n",
    "import matplotlib.pyplot as plt\n",
    "import mplfinance as mpf\n",
    "import datetime as dt\n",
    "from matplotlib.pyplot import figure"
   ]
  },
  {
   "cell_type": "code",
   "execution_count": 2,
   "id": "7195ccc3",
   "metadata": {},
   "outputs": [],
   "source": [
    "#Training AND testing\n",
    "from sklearn.preprocessing import MinMaxScaler\n",
    "from tensorflow.keras.layers import Dense, Dropout, LSTM\n",
    "from tensorflow.keras.layers import Input, Dense, Activation, Dropout, BatchNormalization\n",
    "from tensorflow.keras.models import Sequential"
   ]
  },
  {
   "cell_type": "code",
   "execution_count": 3,
   "id": "c7214236",
   "metadata": {},
   "outputs": [],
   "source": [
    "against_curr = 'USD'"
   ]
  },
  {
   "cell_type": "code",
   "execution_count": 4,
   "id": "77246c5f",
   "metadata": {},
   "outputs": [],
   "source": [
    "crypto_xrp = 'XRP'\n",
    "colnames = []"
   ]
  },
  {
   "cell_type": "code",
   "execution_count": 5,
   "id": "85677614",
   "metadata": {},
   "outputs": [],
   "source": [
    "start = dt.datetime(2016,1,1)\n",
    "end = dt.datetime.now()\n",
    "\n",
    "datadb = web.DataReader(f'{crypto_xrp}-{against_curr}', 'yahoo', start, end)\n",
    "\n",
    "scaler = MinMaxScaler(feature_range=(0,1))\n",
    "scaled_data = scaler.fit_transform(datadb['Close'].values.reshape(-1,1))\n",
    "prediction_days = 60\n",
    "future_days01 = 180"
   ]
  },
  {
   "cell_type": "code",
   "execution_count": 6,
   "id": "51e4f861",
   "metadata": {},
   "outputs": [],
   "source": [
    "x_train, y_train = [], []\n",
    "for x in range(prediction_days, len(scaled_data) - future_days01):\n",
    "    x_train.append(scaled_data[x-prediction_days:x, 0])\n",
    "    y_train.append(scaled_data[x + future_days01, 0])\n",
    "    \n",
    "x_train, y_train = np.array(x_train), np.array(y_train)\n",
    "x_train = np.reshape(x_train, (x_train.shape[0], x_train.shape[1], 1))"
   ]
  },
  {
   "cell_type": "code",
   "execution_count": 7,
   "id": "3e839ab4",
   "metadata": {},
   "outputs": [
    {
     "name": "stdout",
     "output_type": "stream",
     "text": [
      "Epoch 1/25\n",
      "61/61 [==============================] - 11s 72ms/step - loss: 0.0137\n",
      "Epoch 2/25\n",
      "61/61 [==============================] - 6s 92ms/step - loss: 0.0128\n",
      "Epoch 3/25\n",
      "61/61 [==============================] - 5s 81ms/step - loss: 0.0116\n",
      "Epoch 4/25\n",
      "61/61 [==============================] - 5s 78ms/step - loss: 0.0112\n",
      "Epoch 5/25\n",
      "61/61 [==============================] - 5s 83ms/step - loss: 0.0114\n",
      "Epoch 6/25\n",
      "61/61 [==============================] - 5s 78ms/step - loss: 0.0113:  - ETA: 0s - loss: 0\n",
      "Epoch 7/25\n",
      "61/61 [==============================] - 5s 87ms/step - loss: 0.0115\n",
      "Epoch 8/25\n",
      "61/61 [==============================] - 5s 89ms/step - loss: 0.0111\n",
      "Epoch 9/25\n",
      "61/61 [==============================] - 5s 79ms/step - loss: 0.0114\n",
      "Epoch 10/25\n",
      "61/61 [==============================] - 5s 78ms/step - loss: 0.0111\n",
      "Epoch 11/25\n",
      "61/61 [==============================] - 4s 70ms/step - loss: 0.0111\n",
      "Epoch 12/25\n",
      "61/61 [==============================] - 5s 75ms/step - loss: 0.0114: 0s - l\n",
      "Epoch 13/25\n",
      "61/61 [==============================] - 5s 77ms/step - loss: 0.0112\n",
      "Epoch 14/25\n",
      "61/61 [==============================] - 5s 78ms/step - loss: 0.0112\n",
      "Epoch 15/25\n",
      "61/61 [==============================] - 5s 74ms/step - loss: 0.0110\n",
      "Epoch 16/25\n",
      "61/61 [==============================] - 5s 76ms/step - loss: 0.0110\n",
      "Epoch 17/25\n",
      "61/61 [==============================] - 4s 72ms/step - loss: 0.0111\n",
      "Epoch 18/25\n",
      "61/61 [==============================] - 4s 72ms/step - loss: 0.0109\n",
      "Epoch 19/25\n",
      "61/61 [==============================] - 4s 71ms/step - loss: 0.0110\n",
      "Epoch 20/25\n",
      "61/61 [==============================] - 4s 72ms/step - loss: 0.0108\n",
      "Epoch 21/25\n",
      "61/61 [==============================] - 4s 73ms/step - loss: 0.0108\n",
      "Epoch 22/25\n",
      "61/61 [==============================] - 5s 80ms/step - loss: 0.0108\n",
      "Epoch 23/25\n",
      "61/61 [==============================] - 5s 83ms/step - loss: 0.0107\n",
      "Epoch 24/25\n",
      "61/61 [==============================] - 4s 72ms/step - loss: 0.0111\n",
      "Epoch 25/25\n",
      "61/61 [==============================] - 5s 75ms/step - loss: 0.0107\n"
     ]
    },
    {
     "data": {
      "text/plain": [
       "<keras.callbacks.History at 0x21bd913b580>"
      ]
     },
     "execution_count": 7,
     "metadata": {},
     "output_type": "execute_result"
    }
   ],
   "source": [
    "#creating neural network\n",
    "model = Sequential()\n",
    "model.add(LSTM(units = 50, return_sequences=True, input_shape=(x_train.shape[1], 1)))\n",
    "model.add(Dropout(0.2))\n",
    "model.add(LSTM(units = 50, return_sequences=True))\n",
    "model.add(Dropout(0.2))\n",
    "model.add(LSTM(units = 50))\n",
    "model.add(Dropout(0.2))\n",
    "model.add(Dense(units=1))\n",
    "\n",
    "model.compile(optimizer = 'adam', loss = 'mean_squared_error')\n",
    "model.fit(x_train, y_train, epochs = 25, batch_size = 32)"
   ]
  },
  {
   "cell_type": "code",
   "execution_count": 8,
   "id": "dccc234f",
   "metadata": {},
   "outputs": [],
   "source": [
    "#testing model\n",
    "test_start = dt.datetime(2021, 1, 1)\n",
    "test_end = dt.datetime.now()"
   ]
  },
  {
   "cell_type": "code",
   "execution_count": 9,
   "id": "655df10d",
   "metadata": {},
   "outputs": [],
   "source": [
    "test_data = web.DataReader(f'{crypto_xrp}-{against_curr}', 'yahoo', test_start, test_end)\n",
    "actual_prices = test_data['Close'].values\n",
    "\n",
    "total_dataset = pd.concat((datadb['Close'],test_data['Close']), axis = 0)"
   ]
  },
  {
   "cell_type": "code",
   "execution_count": 10,
   "id": "eca97748",
   "metadata": {},
   "outputs": [],
   "source": [
    "model_inputs = total_dataset[len(total_dataset) - len(test_data) - prediction_days:].values\n",
    "model_inputs = model_inputs.reshape(-1, 1)\n",
    "model_inputs = scaler.fit_transform(model_inputs)"
   ]
  },
  {
   "cell_type": "code",
   "execution_count": 11,
   "id": "9aee152f",
   "metadata": {},
   "outputs": [],
   "source": [
    "x_test = []\n",
    "for x in range(prediction_days, len(model_inputs)):\n",
    "    x_test.append(model_inputs[x-prediction_days:x, 0])\n",
    "    \n",
    "x_test = np.array(x_test)\n",
    "x_test = np.reshape(x_test, (x_test.shape[0], x_test.shape[1], 1))\n",
    "\n",
    "\n",
    "prediction_prices = model.predict(x_test)\n",
    "prediction_prices = scaler.inverse_transform(prediction_prices)"
   ]
  },
  {
   "cell_type": "code",
   "execution_count": 12,
   "id": "e2d17794",
   "metadata": {},
   "outputs": [
    {
     "data": {
      "image/png": "[encoded data removed]",
      "text/plain": [
       "<Figure size 432x288 with 1 Axes>"
      ]
     },
     "metadata": {
      "needs_background": "light"
     },
     "output_type": "display_data"
    }
   ],
   "source": [
    "plt.plot(actual_prices, color = 'black', label = \"Actual Prices\")\n",
    "plt.plot(prediction_prices, color = \"red\", label = \"Predicted Prices\")\n",
    "plt.title(f'{crypto_xrp} price prediction')\n",
    "plt.xlabel('Time')\n",
    "plt.ylabel('Price')\n",
    "plt.legend(loc = \"upper left\")\n",
    "plt.show()\n"
   ]
  },
  {
   "cell_type": "code",
   "execution_count": 15,
   "id": "77fc11a5",
   "metadata": {},
   "outputs": [],
   "source": [
    "real_data = [model_inputs[len(model_inputs) + 1 - prediction_days:len(model_inputs) + 1, 0]]\n",
    "real_data = np.array(real_data)\n",
    "real_data = np.reshape(real_data, (real_data.shape[0], real_data.shape[1], 1))"
   ]
  },
  {
   "cell_type": "code",
   "execution_count": 16,
   "id": "2f849c9f",
   "metadata": {},
   "outputs": [
    {
     "name": "stdout",
     "output_type": "stream",
     "text": [
      "[[0.5605045]]\n"
     ]
    }
   ],
   "source": [
    "prediction = model.predict(real_data)\n",
    "prediction = scaler.inverse_transform(prediction)\n",
    "print(prediction)"
   ]
  },
  {
   "cell_type": "code",
   "execution_count": null,
   "id": "6cbd6659",
   "metadata": {},
   "outputs": [],
   "source": []
  }
 ],
 "metadata": {
  "kernelspec": {
   "display_name": "Python 3",
   "language": "python",
   "name": "python3"
  },
  "language_info": {
   "codemirror_mode": {
    "name": "ipython",
    "version": 3
   },
   "file_extension": ".py",
   "mimetype": "text/x-python",
   "name": "python",
   "nbconvert_exporter": "python",
   "pygments_lexer": "ipython3",
   "version": "3.8.8"
  }
 },
 "nbformat": 4,
 "nbformat_minor": 5
}
