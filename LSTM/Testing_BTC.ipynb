{
 "cells": [
  {
   "cell_type": "code",
   "execution_count": 1,
   "id": "15c93697",
   "metadata": {},
   "outputs": [],
   "source": [
    "#importing libraries\n",
    "import pandas as pd\n",
    "import numpy as np\n",
    "import pandas_datareader as web\n",
    "import seaborn as sns\n",
    "import matplotlib.pyplot as plt\n",
    "import mplfinance as mpf\n",
    "import datetime as dt\n",
    "from matplotlib.pyplot import figure"
   ]
  },
  {
   "cell_type": "code",
   "execution_count": 2,
   "id": "cd93eef1",
   "metadata": {},
   "outputs": [],
   "source": [
    "#Training AND testing\n",
    "from sklearn.preprocessing import MinMaxScaler\n",
    "from tensorflow.keras.layers import Dense, Dropout, LSTM\n",
    "from tensorflow.keras.layers import Input, Dense, Activation, Dropout, BatchNormalization\n",
    "from tensorflow.keras.models import Sequential"
   ]
  },
  {
   "cell_type": "code",
   "execution_count": 3,
   "id": "bfe72e95",
   "metadata": {},
   "outputs": [],
   "source": [
    "against_curr = 'USD'"
   ]
  },
  {
   "cell_type": "code",
   "execution_count": 4,
   "id": "a98a9d53",
   "metadata": {},
   "outputs": [],
   "source": [
    "crypto_btc = 'BTC'\n",
    "colnames = []"
   ]
  },
  {
   "cell_type": "code",
   "execution_count": 5,
   "id": "9e90e619",
   "metadata": {},
   "outputs": [],
   "source": [
    "start = dt.datetime(2016,10,10)\n",
    "end = dt.datetime.now()\n",
    "\n",
    "datadb = web.DataReader(f'{crypto_btc}-{against_curr}', 'yahoo', start, end)\n",
    "\n",
    "scaler = MinMaxScaler(feature_range=(0,1))\n",
    "scaled_data = scaler.fit_transform(datadb['Close'].values.reshape(-1,1))\n",
    "prediction_days = 60\n",
    "future_days01 = 180"
   ]
  },
  {
   "cell_type": "code",
   "execution_count": 6,
   "id": "a24a1b1a",
   "metadata": {},
   "outputs": [],
   "source": [
    "x_train, y_train = [], []\n",
    "for x in range(prediction_days, len(scaled_data) - future_days01):\n",
    "    x_train.append(scaled_data[x-prediction_days:x, 0])\n",
    "    y_train.append(scaled_data[x + future_days01, 0])\n",
    "    \n",
    "x_train, y_train = np.array(x_train), np.array(y_train)\n",
    "x_train = np.reshape(x_train, (x_train.shape[0], x_train.shape[1], 1))"
   ]
  },
  {
   "cell_type": "code",
   "execution_count": 7,
   "id": "de2cf759",
   "metadata": {},
   "outputs": [
    {
     "name": "stdout",
     "output_type": "stream",
     "text": [
      "Epoch 1/25\n",
      "52/52 [==============================] - 7s 64ms/step - loss: 0.0380\n",
      "Epoch 2/25\n",
      "52/52 [==============================] - 3s 60ms/step - loss: 0.0308\n",
      "Epoch 3/25\n",
      "52/52 [==============================] - 3s 54ms/step - loss: 0.0302\n",
      "Epoch 4/25\n",
      "52/52 [==============================] - 3s 61ms/step - loss: 0.0302\n",
      "Epoch 5/25\n",
      "52/52 [==============================] - 3s 63ms/step - loss: 0.0297\n",
      "Epoch 6/25\n",
      "52/52 [==============================] - 3s 61ms/step - loss: 0.0302\n",
      "Epoch 7/25\n",
      "52/52 [==============================] - 3s 64ms/step - loss: 0.0297\n",
      "Epoch 8/25\n",
      "52/52 [==============================] - 4s 72ms/step - loss: 0.0305\n",
      "Epoch 9/25\n",
      "52/52 [==============================] - 3s 64ms/step - loss: 0.0304\n",
      "Epoch 10/25\n",
      "52/52 [==============================] - 4s 72ms/step - loss: 0.0293\n",
      "Epoch 11/25\n",
      "52/52 [==============================] - 4s 69ms/step - loss: 0.0296\n",
      "Epoch 12/25\n",
      "52/52 [==============================] - 3s 65ms/step - loss: 0.0299: 0s - l\n",
      "Epoch 13/25\n",
      "52/52 [==============================] - 3s 66ms/step - loss: 0.0290: 0s -\n",
      "Epoch 14/25\n",
      "52/52 [==============================] - 3s 65ms/step - loss: 0.0291\n",
      "Epoch 15/25\n",
      "52/52 [==============================] - 4s 69ms/step - loss: 0.0301\n",
      "Epoch 16/25\n",
      "52/52 [==============================] - 4s 72ms/step - loss: 0.0288\n",
      "Epoch 17/25\n",
      "52/52 [==============================] - 5s 94ms/step - loss: 0.0301: 1s - \n",
      "Epoch 18/25\n",
      "52/52 [==============================] - 4s 79ms/step - loss: 0.0279\n",
      "Epoch 19/25\n",
      "52/52 [==============================] - 4s 83ms/step - loss: 0.0275\n",
      "Epoch 20/25\n",
      "52/52 [==============================] - 4s 71ms/step - loss: 0.0266\n",
      "Epoch 21/25\n",
      "52/52 [==============================] - 5s 91ms/step - loss: 0.0273\n",
      "Epoch 22/25\n",
      "52/52 [==============================] - 4s 75ms/step - loss: 0.0264\n",
      "Epoch 23/25\n",
      "52/52 [==============================] - 5s 90ms/step - loss: 0.0253\n",
      "Epoch 24/25\n",
      "52/52 [==============================] - 5s 89ms/step - loss: 0.0270\n",
      "Epoch 25/25\n",
      "52/52 [==============================] - 4s 78ms/step - loss: 0.0317\n"
     ]
    },
    {
     "data": {
      "text/plain": [
       "<keras.callbacks.History at 0x25dcee1d580>"
      ]
     },
     "execution_count": 7,
     "metadata": {},
     "output_type": "execute_result"
    }
   ],
   "source": [
    "#creating neural network\n",
    "model = Sequential()\n",
    "model.add(LSTM(units = 50, return_sequences=True, input_shape=(x_train.shape[1], 1)))\n",
    "model.add(Dropout(0.2))\n",
    "model.add(LSTM(units = 50, return_sequences=True))\n",
    "model.add(Dropout(0.2))\n",
    "model.add(LSTM(units = 50))\n",
    "model.add(Dropout(0.2))\n",
    "model.add(Dense(units=1))\n",
    "\n",
    "model.compile(optimizer = 'adam', loss = 'mean_squared_error')\n",
    "model.fit(x_train, y_train, epochs = 25, batch_size = 32)"
   ]
  },
  {
   "cell_type": "code",
   "execution_count": 8,
   "id": "8df13876",
   "metadata": {},
   "outputs": [],
   "source": [
    "#testing model\n",
    "test_start = dt.datetime(2021, 1, 1)\n",
    "test_end = dt.datetime.now()"
   ]
  },
  {
   "cell_type": "code",
   "execution_count": 9,
   "id": "bf3a4807",
   "metadata": {},
   "outputs": [],
   "source": [
    "test_data = web.DataReader(f'{crypto_btc}-{against_curr}', 'yahoo', test_start, test_end)\n",
    "actual_prices = test_data['Close'].values\n",
    "\n",
    "total_dataset = pd.concat((datadb['Close'],test_data['Close']), axis = 0)"
   ]
  },
  {
   "cell_type": "code",
   "execution_count": 10,
   "id": "05487ee1",
   "metadata": {},
   "outputs": [],
   "source": [
    "model_inputs = total_dataset[len(total_dataset) - len(test_data) - prediction_days:].values\n",
    "model_inputs = model_inputs.reshape(-1, 1)\n",
    "model_inputs = scaler.fit_transform(model_inputs)"
   ]
  },
  {
   "cell_type": "code",
   "execution_count": 11,
   "id": "1adfcdc4",
   "metadata": {},
   "outputs": [],
   "source": [
    "x_test = []\n",
    "for x in range(prediction_days, len(model_inputs)):\n",
    "    x_test.append(model_inputs[x-prediction_days:x, 0])\n",
    "    \n",
    "x_test = np.array(x_test)\n",
    "x_test = np.reshape(x_test, (x_test.shape[0], x_test.shape[1], 1))\n",
    "\n",
    "prediction_prices = model.predict(x_test)\n",
    "prediction_prices = scaler.inverse_transform(prediction_prices)"
   ]
  },
  {
   "cell_type": "code",
   "execution_count": 12,
   "id": "e96f2086",
   "metadata": {},
   "outputs": [
    {
     "data": {
      "image/png": "[encoded data removed]",
      "text/plain": [
       "<Figure size 432x288 with 1 Axes>"
      ]
     },
     "metadata": {
      "needs_background": "light"
     },
     "output_type": "display_data"
    }
   ],
   "source": [
    "plt.plot(actual_prices, color = 'black', label = \"Actual Prices\")\n",
    "plt.plot(prediction_prices, color = \"red\", label = \"Predicted Prices\")\n",
    "plt.title(f'{crypto_btc} price prediction')\n",
    "plt.xlabel('Time')\n",
    "plt.ylabel('Price')\n",
    "plt.legend(loc = \"upper left\")\n",
    "plt.show()\n"
   ]
  },
  {
   "cell_type": "code",
   "execution_count": 15,
   "id": "47f3aef8",
   "metadata": {},
   "outputs": [],
   "source": [
    "real_data = [model_inputs[len(model_inputs) + 1 - prediction_days:len(model_inputs) - 1, 0]]\n",
    "real_data = np.array(real_data)\n",
    "real_data = np.reshape(real_data, (real_data.shape[0], real_data.shape[1], 1))"
   ]
  },
  {
   "cell_type": "code",
   "execution_count": 16,
   "id": "cffe2b4d",
   "metadata": {},
   "outputs": [
    {
     "name": "stdout",
     "output_type": "stream",
     "text": [
      "Predicition of Bitcoin [[59006.637]]\n"
     ]
    }
   ],
   "source": [
    "prediction = model.predict(real_data)\n",
    "prediction = scaler.inverse_transform(prediction)\n",
    "print(\"Predicition of Bitcoin\", prediction)"
   ]
  },
  {
   "cell_type": "code",
   "execution_count": null,
   "id": "8bbae25c",
   "metadata": {},
   "outputs": [],
   "source": []
  },
  {
   "cell_type": "code",
   "execution_count": null,
   "id": "eec35106",
   "metadata": {},
   "outputs": [],
   "source": []
  },
  {
   "cell_type": "code",
   "execution_count": null,
   "id": "0e3cfc27",
   "metadata": {},
   "outputs": [],
   "source": []
  },
  {
   "cell_type": "code",
   "execution_count": null,
   "id": "df9c068b",
   "metadata": {},
   "outputs": [],
   "source": []
  }
 ],
 "metadata": {
  "kernelspec": {
   "display_name": "Python 3",
   "language": "python",
   "name": "python3"
  },
  "language_info": {
   "codemirror_mode": {
    "name": "ipython",
    "version": 3
   },
   "file_extension": ".py",
   "mimetype": "text/x-python",
   "name": "python",
   "nbconvert_exporter": "python",
   "pygments_lexer": "ipython3",
   "version": "3.8.8"
  }
 },
 "nbformat": 4,
 "nbformat_minor": 5
}
